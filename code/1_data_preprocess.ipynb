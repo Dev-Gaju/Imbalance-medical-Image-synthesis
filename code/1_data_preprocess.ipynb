{
 "cells": [
  {
   "cell_type": "code",
   "execution_count": 2,
   "id": "a4cc497b",
   "metadata": {},
   "outputs": [
    {
     "name": "stderr",
     "output_type": "stream",
     "text": [
      "Using TensorFlow backend.\n"
     ]
    }
   ],
   "source": [
    "import pandas as pd\n",
    "import matplotlib.pyplot as plt\n",
    "import os\n",
    "import cv2\n",
    "import numpy as np\n",
    "from tqdm import tqdm\n",
    "from keras.utils import np_utils\n",
    "import sys"
   ]
  },
  {
   "cell_type": "code",
   "execution_count": 7,
   "id": "73390cbe",
   "metadata": {},
   "outputs": [],
   "source": [
    "\n",
    "# Root directory of the project\n",
    "ROOT_DIR = os.path.abspath(\"../\")\n",
    "sys.path.append(ROOT_DIR)  \n",
    "import helpers\n",
    "\n",
    "'''Save images and labels in numpy format'''\n",
    "\n",
    "def crop_and_resize(img, resize_dim=256):\n",
    "    img=cv2.resize(img,(resize_dim,resize_dim),interpolation=cv2.INTER_AREA)\n",
    "    return img\n",
    "\n",
    "def get_data(path):\n",
    "    img=cv2.imread(path)\n",
    "    img=cv2.cvtColor(img,cv2.COLOR_BGR2RGB)\n",
    "    img=crop_and_resize(img)\n",
    "    return img\n",
    "\n",
    "\n",
    "# Raw dataset path\n",
    "DATASET = os.path.join(ROOT_DIR, 'dataset')\n",
    "\n",
    "\n",
    "# Training images path\n",
    "TRAINING_IMAGES = os.path.join(DATASET, 'isic2016', 'ISBI2016_ISIC_Part3_Training_Data')\n",
    "# Ground truth path\n",
    "TRAINING_GT = os.path.join(DATASET, 'isic2016', 'ISBI2016_ISIC_Part3_Training_GroundTruth.csv')\n",
    "# Read the metadata\n",
    "TRAINING_META = pd.read_csv(TRAINING_GT, sep=',', names=[\"FILENAME\", \"CLASS\"])\n",
    "\n",
    "# Test images path\n",
    "TEST_IMAGES = os.path.join(DATASET, 'isic2016', 'ISBI2016_ISIC_Part3_Test_Data')\n",
    "# Ground truth path\n",
    "TEST_GT = os.path.join(DATASET, 'isic2016', 'ISBI2016_ISIC_Part3_Test_GroundTruth.csv')\n",
    "# Read the metadata\n",
    "TEST_META = pd.read_csv(TEST_GT, sep=',', names=[\"FILENAME\", \"CLASS\"])"
   ]
  },
  {
   "cell_type": "code",
   "execution_count": 8,
   "id": "00a0e14c",
   "metadata": {},
   "outputs": [
    {
     "name": "stdout",
     "output_type": "stream",
     "text": [
      "Training data...\n"
     ]
    },
    {
     "name": "stderr",
     "output_type": "stream",
     "text": [
      "900it [01:34,  9.53it/s]\n"
     ]
    },
    {
     "name": "stdout",
     "output_type": "stream",
     "text": [
      "(900, 256, 256, 3) (900, 2)\n",
      "Done!\n",
      "Test data...\n"
     ]
    },
    {
     "name": "stderr",
     "output_type": "stream",
     "text": [
      "379it [00:35, 10.79it/s]\n"
     ]
    },
    {
     "name": "stdout",
     "output_type": "stream",
     "text": [
      "(379, 256, 256, 3) (379, 2)\n",
      "Done!\n"
     ]
    }
   ],
   "source": [
    "def construct_numpy(images, meta, fname, lname):\n",
    "    '''\n",
    "    Creates a new numpy arrays.\n",
    "    INPUT\n",
    "        IMAGES: \n",
    "        df:\n",
    "    OUTPUT\n",
    "        Numpy arrays\n",
    "    '''\n",
    "    # filenames and gts\n",
    "    filenames = meta['FILENAME'].values\n",
    "    gt = meta['CLASS'].values\n",
    "    \n",
    "    # convert string labels to numeric values\n",
    "    labels = []\n",
    "    for s in gt:\n",
    "        if s == \"benign\" or s == 0.0 :\n",
    "            labels.append(0)\n",
    "        if s == \"malignant\" or s == 1.0:\n",
    "            labels.append(1)\n",
    "            \n",
    "    # all training images and labels     \n",
    "    inp_feat = []\n",
    "    g_t = []\n",
    "\n",
    "    # two classes individually\n",
    "    cancer = []\n",
    "    non_cancer = []\n",
    "\n",
    "    for f, l in tqdm(zip(filenames[:], labels[:])):\n",
    "        f = \"{}/{}.jpg\".format(images, f)\n",
    "        img = get_data(f)\n",
    "        inp_feat.append(img)\n",
    "        g_t.append(l)\n",
    "        \n",
    "        #----------------\n",
    "        #if l == 1:\n",
    "        #    cancer.append(img)\n",
    "        #if l == 0:\n",
    "        #    non_cancer.append(img)\n",
    "        #else:\n",
    "        #    pass\n",
    "        #-----------------\n",
    "        \n",
    "        img = None\n",
    "\n",
    "    # make nummpy arrays\n",
    "    inp_feat = np.array(inp_feat)\n",
    "    g_t = np.array(g_t)\n",
    "    \n",
    "    # one hot encoded vectors\n",
    "    num_classes = 2\n",
    "    g_t = np_utils.to_categorical(g_t,num_classes)\n",
    "\n",
    "    #cancer = np.array(cancer)\n",
    "    #non_cancer = np.array(non_cancer)\n",
    "\n",
    "    print(inp_feat.shape, g_t.shape)\n",
    "    \n",
    "    # Create directory\n",
    "    helpers.create_directory(\"{}/isic2016numpy/\".format(DATASET))\n",
    "    # Save\n",
    "    np.save(\"{}/isic2016numpy/{}.npy\".format(DATASET, fname), inp_feat)\n",
    "    np.save(\"{}/isic2016numpy/{}.npy\".format(DATASET, lname), g_t)\n",
    "    \n",
    "    print(\"Done!\")\n",
    "    \n",
    "\n",
    "\n",
    "if __name__ == '__main__':\n",
    "    \n",
    "    # Make numpy arrays\n",
    "    print(\"Training data...\")\n",
    "    construct_numpy(TRAINING_IMAGES, TRAINING_META, \"x_train\", \"y_train\")\n",
    "    print(\"Test data...\")\n",
    "    construct_numpy(TEST_IMAGES, TEST_META, \"x_test\", \"y_test\")"
   ]
  },
  {
   "cell_type": "code",
   "execution_count": 2,
   "id": "e9713512",
   "metadata": {},
   "outputs": [],
   "source": [
    "import pandas as pd"
   ]
  },
  {
   "cell_type": "code",
   "execution_count": 4,
   "id": "a4eb64ab",
   "metadata": {},
   "outputs": [],
   "source": [
    "data =pd.read_csv('C:\\\\Users\\\\gazur\\\\Desktop\\\\Computer Vision\\\\adversarial-lesions\\\\DATASET\\\\isic2016/Training_GroundTruth.csv')"
   ]
  },
  {
   "cell_type": "code",
   "execution_count": 15,
   "id": "ba3d00f9",
   "metadata": {},
   "outputs": [
    {
     "data": {
      "text/plain": [
       "count        899\n",
       "unique         2\n",
       "top       benign\n",
       "freq         726\n",
       "Name: benign, dtype: object"
      ]
     },
     "execution_count": 15,
     "metadata": {},
     "output_type": "execute_result"
    }
   ],
   "source": [
    "data['benign'].describe()"
   ]
  },
  {
   "cell_type": "code",
   "execution_count": null,
   "id": "3390325c",
   "metadata": {},
   "outputs": [],
   "source": []
  }
 ],
 "metadata": {
  "kernelspec": {
   "display_name": "Python 3",
   "language": "python",
   "name": "python3"
  },
  "language_info": {
   "codemirror_mode": {
    "name": "ipython",
    "version": 3
   },
   "file_extension": ".py",
   "mimetype": "text/x-python",
   "name": "python",
   "nbconvert_exporter": "python",
   "pygments_lexer": "ipython3",
   "version": "3.6.13"
  }
 },
 "nbformat": 4,
 "nbformat_minor": 5
}
