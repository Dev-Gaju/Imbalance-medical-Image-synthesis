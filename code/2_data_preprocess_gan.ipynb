{
 "cells": [
  {
   "cell_type": "code",
   "execution_count": 3,
   "id": "eb34bfce",
   "metadata": {},
   "outputs": [
    {
     "name": "stdout",
     "output_type": "stream",
     "text": [
      "Collecting opencv-python\n",
      "  Using cached opencv_python-4.5.3.56-cp36-cp36m-win_amd64.whl (34.9 MB)\n",
      "Requirement already satisfied: numpy>=1.13.3 in c:\\anaconda\\envs\\keras_env\\lib\\site-packages (from opencv-python) (1.19.5)\n",
      "Installing collected packages: opencv-python\n",
      "Successfully installed opencv-python-4.5.3.56\n"
     ]
    }
   ],
   "source": [
    "!pip install opencv-python"
   ]
  },
  {
   "cell_type": "code",
   "execution_count": 2,
   "id": "3ab0e950",
   "metadata": {},
   "outputs": [],
   "source": [
    "import pandas as pd\n",
    "import matplotlib.pyplot as plt\n",
    "import os\n",
    "import cv2\n",
    "import numpy as np\n",
    "from tqdm import tqdm\n",
    "import sys\n",
    "\n",
    "\"\"\"Make two groups according to class labels (Malignant and Benign)\"\"\"\n",
    "\n",
    "# Root directory of the project\n",
    "ROOT_DIR = os.path.abspath(\"../\")\n",
    "sys.path.append(ROOT_DIR)  \n",
    "import helpers\n",
    "\n",
    "def get_data(path):\n",
    "    img=cv2.imread(path)\n",
    "    return img\n",
    "\n",
    "\n",
    "# Training file directory\n",
    "DATASET = os.path.join(ROOT_DIR, 'dataset')\n",
    "\n",
    "helpers.create_directory(\"{}/isic2016gan/\".format(DATASET))\n",
    "NEW_DATASET_PATH = \"{}/{}\".format(DATASET, \"isic2016gan\")\n",
    "NEW_DATASET_PATH\n",
    "\n",
    "helpers.create_directory(\"{}/testA\".format(NEW_DATASET_PATH))\n",
    "helpers.create_directory(\"{}/testB\".format(NEW_DATASET_PATH))\n",
    "\n",
    "\n",
    "# Learn mapping from normal lesions to maligant lesions\n",
    "NORMAL_FOLDER = \"{}/testA/\".format(NEW_DATASET_PATH)\n",
    "CANCER_FOLDER = \"{}/testB/\".format(NEW_DATASET_PATH)\n",
    "\n",
    "CANCER_FOLDER, NORMAL_FOLDER\n",
    "\n",
    "\n",
    "# IMAGES PATH\n",
    "TRAINING_IMAGES = os.path.join(DATASET, 'isic2016', 'ISBI2016_ISIC_Part3_Test_Data')\n",
    "# GROUND TRUTH PATH\n",
    "TRAINING_GT = os.path.join(DATASET, 'isic2016', 'ISBI2016_ISIC_Part3_Test_GroundTruth.csv')\n",
    "# Read the metadata\n",
    "TRAINING_META = pd.read_csv(TRAINING_GT, sep=',', names=[\"FILENAME\", \"CLASS\"])\n",
    "\n",
    "# filenames and gts\n",
    "filenames = TRAINING_META['FILENAME'].values\n",
    "gt = TRAINING_META['CLASS'].values\n",
    "    \n",
    "# convert string labels to numeric values\n",
    "labels = []\n",
    "for s in gt:\n",
    "    if s == \"benign\" or s == 0.0 :\n",
    "        labels.append(0)\n",
    "    if s == \"malignant\" or s == 1.0:\n",
    "        labels.append(1)\n",
    "\n",
    "# save in folders\n",
    "number = 0  \n",
    "for f, l in tqdm(zip(filenames[:], labels[:])):\n",
    "    f = \"{}/{}.jpg\".format(TRAINING_IMAGES, f)\n",
    "    img = get_data(f)\n",
    "    \n",
    "    if l == 0.0:\n",
    "            cv2.imwrite(NORMAL_FOLDER + str(number) + \".jpeg\", img)\n",
    "            img=None\n",
    "    else:\n",
    "        cv2.imwrite(CANCER_FOLDER + str(number) + \".jpeg\", img)\n",
    "        img=None\n",
    "    number+=1\n",
    "\n",
    "print(\"Done!\")"
   ]
  },
  {
   "cell_type": "code",
   "execution_count": 3,
   "id": "e9367541",
   "metadata": {},
   "outputs": [],
   "source": [
    "benign=727\n",
    "malignant=173\n"
   ]
  },
  {
   "cell_type": "code",
   "execution_count": 41,
   "id": "2e028eb0",
   "metadata": {},
   "outputs": [
    {
     "name": "stderr",
     "output_type": "stream",
     "text": [
      "C:\\Anaconda\\envs\\GPU_Keras\\lib\\site-packages\\ipykernel_launcher.py:21: MatplotlibDeprecationWarning: savefig() got unexpected keyword argument \"papertype\" which is no longer supported as of 3.3 and will become an error two minor releases later\n",
      "C:\\Anaconda\\envs\\GPU_Keras\\lib\\site-packages\\ipykernel_launcher.py:21: MatplotlibDeprecationWarning: savefig() got unexpected keyword argument \"frameon\" which is no longer supported as of 3.3 and will become an error two minor releases later\n"
     ]
    },
    {
     "data": {
      "image/png": "[encoded data removed]",
      "text/plain": [
       "<Figure size 432x216 with 1 Axes>"
      ]
     },
     "metadata": {
      "needs_background": "light"
     },
     "output_type": "display_data"
    }
   ],
   "source": [
    "# libraries\n",
    "import numpy as np\n",
    "import matplotlib.pyplot as plt\n",
    " \n",
    "# create a dataset\n",
    "height = [727, 123]\n",
    "bars = ('A', 'B')\n",
    "x_pos = np.arange(len(bars))\n",
    "\n",
    "# Create bars with different colors\n",
    "fig = plt.figure(figsize = (6, 3))\n",
    "plt.bar(x_pos, height, color=[ 'green', 'blue'])\n",
    "\n",
    "# Create names on the x-axis\n",
    "plt.xticks(x_pos, bars)\n",
    "plt.xlabel(\"Dataset Sample\")\n",
    "fig.tight_layout()\n",
    "# save graph\n",
    "plt.savefig('hello', dpi=70, facecolor='w', edgecolor='w',papertype=None, format=None,\n",
    "        transparent=False,\n",
    "        frameon=None, metadata=None)\n",
    "# plt.savefig(\"dataset\")\n",
    "\n",
    "# Show graph\n",
    "plt.show()"
   ]
  },
  {
   "cell_type": "code",
   "execution_count": 42,
   "id": "531b001c",
   "metadata": {},
   "outputs": [],
   "source": [
    "from sklearn import svm, datasets\n",
    "from sklearn.model_selection import train_test_split\n",
    "import numpy as np\n",
    "\n",
    "iris = datasets.load_iris()\n",
    "X = iris.data\n",
    "y = iris.target\n",
    "\n",
    "# Add noisy features\n",
    "random_state = np.random.RandomState(0)\n",
    "n_samples, n_features = X.shape\n",
    "X = np.c_[X, random_state.randn(n_samples, 200 * n_features)]\n",
    "\n",
    "# Limit to the two first classes, and split into training and test\n",
    "X_train, X_test, y_train, y_test = train_test_split(X[y < 2], y[y < 2],\n",
    "                                                    test_size=.5,\n",
    "                                                    random_state=random_state)\n",
    "\n",
    "# Create a simple classifier\n",
    "classifier = svm.LinearSVC(random_state=random_state)\n",
    "classifier.fit(X_train, y_train)\n",
    "y_score = classifier.decision_function(X_test)"
   ]
  },
  {
   "cell_type": "code",
   "execution_count": 44,
   "id": "dfd1f2d7",
   "metadata": {},
   "outputs": [
    {
     "name": "stdout",
     "output_type": "stream",
     "text": [
      "Average precision-recall score: 0.88\n"
     ]
    }
   ],
   "source": [
    "from sklearn.metrics import average_precision_score\n",
    "average_precision = average_precision_score(y_test, y_score)\n",
    "\n",
    "print('Average precision-recall score: {0:0.2f}'.format(\n",
    "      average_precision))"
   ]
  },
  {
   "cell_type": "code",
   "execution_count": 51,
   "id": "6bd1628c",
   "metadata": {},
   "outputs": [
    {
     "data": {
      "text/plain": [
       "Text(0.5, 1.0, '2-class Precision-Recall curve: AP=0.88')"
      ]
     },
     "execution_count": 51,
     "metadata": {},
     "output_type": "execute_result"
    },
    {
     "data": {
      "image/png": "[encoded data removed]",
      "text/plain": [
       "<Figure size 432x288 with 1 Axes>"
      ]
     },
     "metadata": {
      "needs_background": "light"
     },
     "output_type": "display_data"
    }
   ],
   "source": [
    "from sklearn.metrics import precision_recall_curve\n",
    "from sklearn.metrics import plot_precision_recall_curve\n",
    "import matplotlib.pyplot as plt\n",
    "\n",
    "disp = plot_precision_recall_curve(classifier, X_test, y_test)\n",
    "disp.ax_.set_title('2-class Precision-Recall curve: '\n",
    "                   'AP={0:0.2f}'.format(average_precision))"
   ]
  },
  {
   "cell_type": "code",
   "execution_count": null,
   "id": "e10eb81e",
   "metadata": {},
   "outputs": [],
   "source": []
  }
 ],
 "metadata": {
  "kernelspec": {
   "display_name": "Python 3",
   "language": "python",
   "name": "python3"
  },
  "language_info": {
   "codemirror_mode": {
    "name": "ipython",
    "version": 3
   },
   "file_extension": ".py",
   "mimetype": "text/x-python",
   "name": "python",
   "nbconvert_exporter": "python",
   "pygments_lexer": "ipython3",
   "version": "3.6.13"
  }
 },
 "nbformat": 4,
 "nbformat_minor": 5
}
