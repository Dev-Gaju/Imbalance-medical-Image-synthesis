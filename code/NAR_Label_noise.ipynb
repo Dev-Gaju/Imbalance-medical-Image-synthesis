{
 "cells": [
  {
   "cell_type": "code",
   "execution_count": null,
   "id": "1326441b",
   "metadata": {},
   "outputs": [],
   "source": [
    "import numpy as np\n",
    "import os\n",
    "dirname = \"C:\\\\Users\\\\gazur\\\\Desktop\\\\Computer Vision\\\\Imbalance medical image synthesis with label noise\\\\DATASET\\\\Finale_Data/Features/NAR\"\n",
    "if not os.path.isdir(dirname):\n",
    "    os.makedirs(dirname)\n",
    "\n",
    "train_y = np.load(\"C:\\\\Users\\\\gazur\\\\Desktop\\\\Computer Vision\\\\Imbalance medical image synthesis with label noise\\\\DATASET\\\\Finale_Data/y_upsampled.npy\")"
   ]
  },
  {
   "cell_type": "code",
   "execution_count": 5,
   "id": "20d23187",
   "metadata": {},
   "outputs": [],
   "source": [
    "def label_conv(label_arr):\n",
    "    labels=[]\n",
    "    for i in range(len(label_arr)):\n",
    "        if (label_arr[i]==[1,0]).all():\n",
    "            labels.append(0) \n",
    "        else:\n",
    "            labels.append(1)\n",
    "    return labels"
   ]
  },
  {
   "cell_type": "code",
   "execution_count": 12,
   "id": "edcc2b31",
   "metadata": {},
   "outputs": [
    {
     "name": "stdout",
     "output_type": "stream",
     "text": [
      "0 5\n",
      "0 10\n",
      "0 15\n",
      "0 20\n",
      "1 5\n",
      "1 10\n",
      "1 15\n",
      "1 20\n",
      "2 5\n"
     ]
    },
    {
     "ename": "IndexError",
     "evalue": "index 0 is out of bounds for axis 0 with size 0",
     "output_type": "error",
     "traceback": [
      "\u001b[1;31m---------------------------------------------------------------------------\u001b[0m",
      "\u001b[1;31mIndexError\u001b[0m                                Traceback (most recent call last)",
      "\u001b[1;32m<ipython-input-12-e82e95ef7106>\u001b[0m in \u001b[0;36m<module>\u001b[1;34m\u001b[0m\n\u001b[0;32m     22\u001b[0m \u001b[1;33m\u001b[0m\u001b[0m\n\u001b[0;32m     23\u001b[0m         \u001b[0mdata\u001b[0m \u001b[1;33m=\u001b[0m \u001b[0mnp\u001b[0m\u001b[1;33m.\u001b[0m\u001b[0mcopy\u001b[0m\u001b[1;33m(\u001b[0m\u001b[0mtrain_y\u001b[0m\u001b[1;33m)\u001b[0m\u001b[1;33m\u001b[0m\u001b[1;33m\u001b[0m\u001b[0m\n\u001b[1;32m---> 24\u001b[1;33m         \u001b[0mdata\u001b[0m \u001b[1;33m=\u001b[0m \u001b[0madd_label_noise\u001b[0m\u001b[1;33m(\u001b[0m\u001b[0mnoise_index\u001b[0m\u001b[1;33m,\u001b[0m \u001b[0mdata\u001b[0m\u001b[1;33m)\u001b[0m\u001b[1;33m\u001b[0m\u001b[1;33m\u001b[0m\u001b[0m\n\u001b[0m\u001b[0;32m     25\u001b[0m \u001b[1;33m\u001b[0m\u001b[0m\n\u001b[0;32m     26\u001b[0m         \u001b[0mfilename\u001b[0m \u001b[1;33m=\u001b[0m \u001b[0mdirname\u001b[0m \u001b[1;33m+\u001b[0m \u001b[1;33m(\u001b[0m\u001b[1;34m\"\\\\_{0}_{1}\"\u001b[0m\u001b[1;33m.\u001b[0m\u001b[0mformat\u001b[0m\u001b[1;33m(\u001b[0m\u001b[0mPN\u001b[0m\u001b[1;33m,\u001b[0m \u001b[0mlabel_tc\u001b[0m\u001b[1;33m)\u001b[0m\u001b[1;33m)\u001b[0m\u001b[1;33m\u001b[0m\u001b[1;33m\u001b[0m\u001b[0m\n",
      "\u001b[1;32m<ipython-input-12-e82e95ef7106>\u001b[0m in \u001b[0;36madd_label_noise\u001b[1;34m(noise_ind, data)\u001b[0m\n\u001b[0;32m      5\u001b[0m \u001b[1;33m\u001b[0m\u001b[0m\n\u001b[0;32m      6\u001b[0m \u001b[1;32mdef\u001b[0m \u001b[0madd_label_noise\u001b[0m\u001b[1;33m(\u001b[0m\u001b[0mnoise_ind\u001b[0m\u001b[1;33m,\u001b[0m \u001b[0mdata\u001b[0m\u001b[1;33m)\u001b[0m\u001b[1;33m:\u001b[0m\u001b[1;33m\u001b[0m\u001b[1;33m\u001b[0m\u001b[0m\n\u001b[1;32m----> 7\u001b[1;33m     \u001b[0mrepl_ind\u001b[0m \u001b[1;33m=\u001b[0m \u001b[0mnp\u001b[0m\u001b[1;33m.\u001b[0m\u001b[0mwhere\u001b[0m\u001b[1;33m(\u001b[0m\u001b[0mdata\u001b[0m\u001b[1;33m[\u001b[0m\u001b[0mnoise_ind\u001b[0m\u001b[1;33m[\u001b[0m\u001b[1;36m0\u001b[0m\u001b[1;33m]\u001b[0m\u001b[1;33m]\u001b[0m \u001b[1;33m==\u001b[0m \u001b[1;36m1\u001b[0m\u001b[1;33m)\u001b[0m\u001b[1;33m\u001b[0m\u001b[1;33m\u001b[0m\u001b[0m\n\u001b[0m\u001b[0;32m      8\u001b[0m     \u001b[0mchooser\u001b[0m \u001b[1;33m=\u001b[0m \u001b[0mnp\u001b[0m\u001b[1;33m.\u001b[0m\u001b[0mdelete\u001b[0m\u001b[1;33m(\u001b[0m\u001b[0mnp\u001b[0m\u001b[1;33m.\u001b[0m\u001b[0marange\u001b[0m\u001b[1;33m(\u001b[0m\u001b[0mdata\u001b[0m\u001b[1;33m.\u001b[0m\u001b[0mshape\u001b[0m\u001b[1;33m[\u001b[0m\u001b[1;36m1\u001b[0m\u001b[1;33m]\u001b[0m\u001b[1;33m)\u001b[0m\u001b[1;33m,\u001b[0m \u001b[0mrepl_ind\u001b[0m\u001b[1;33m,\u001b[0m \u001b[1;36m0\u001b[0m\u001b[1;33m)\u001b[0m\u001b[1;33m\u001b[0m\u001b[1;33m\u001b[0m\u001b[0m\n\u001b[0;32m      9\u001b[0m     \u001b[1;32mfor\u001b[0m \u001b[0mi\u001b[0m \u001b[1;32min\u001b[0m \u001b[0mrange\u001b[0m\u001b[1;33m(\u001b[0m\u001b[0mlen\u001b[0m\u001b[1;33m(\u001b[0m\u001b[0mnoise_ind\u001b[0m\u001b[1;33m)\u001b[0m\u001b[1;33m)\u001b[0m\u001b[1;33m:\u001b[0m\u001b[1;33m\u001b[0m\u001b[1;33m\u001b[0m\u001b[0m\n",
      "\u001b[1;31mIndexError\u001b[0m: index 0 is out of bounds for axis 0 with size 0"
     ]
    }
   ],
   "source": [
    "# add_label_noise : adds label noise in the index positions - noise_ind\n",
    "# in the label array - data\n",
    "\n",
    "\n",
    "\n",
    "def add_label_noise(noise_ind, data):\n",
    "    repl_ind = np.where(data[noise_ind[0]] == 1)\n",
    "    chooser = np.delete(np.arange(data.shape[1]), repl_ind, 0)\n",
    "    for i in range(len(noise_ind)):        \n",
    "        data[noise_ind[i]][repl_ind] = 0\n",
    "        data[noise_ind[i]][chooser[np.random.choice(chooser.shape[0], 1)[0]]] = 1\n",
    "    return data\n",
    "\n",
    "label_t = np.array(label_conv(train_y))\n",
    "\n",
    "for label_tc in np.arange(4):\n",
    "    row_index = np.where(label_t == label_tc)[0]\n",
    "    for PN in [5, 10, 15, 20]:\n",
    "        print(label_tc, PN)\n",
    "        noise_amount = int((PN/100) * row_index.shape[0])\n",
    "        noise_index = row_index[np.random.choice(row_index.shape[0], noise_amount, replace=False)]\n",
    "        \n",
    "        data = np.copy(train_y)\n",
    "        data = add_label_noise(noise_index, data)\n",
    "        \n",
    "        filename = dirname + (\"\\\\_{0}_{1}\".format(PN, label_tc))\n",
    "        np.save(filename, data)"
   ]
  },
  {
   "cell_type": "code",
   "execution_count": null,
   "id": "3994bf21",
   "metadata": {},
   "outputs": [],
   "source": []
  }
 ],
 "metadata": {
  "kernelspec": {
   "display_name": "Python 3",
   "language": "python",
   "name": "python3"
  },
  "language_info": {
   "codemirror_mode": {
    "name": "ipython",
    "version": 3
   },
   "file_extension": ".py",
   "mimetype": "text/x-python",
   "name": "python",
   "nbconvert_exporter": "python",
   "pygments_lexer": "ipython3",
   "version": "3.6.13"
  }
 },
 "nbformat": 4,
 "nbformat_minor": 5
}
