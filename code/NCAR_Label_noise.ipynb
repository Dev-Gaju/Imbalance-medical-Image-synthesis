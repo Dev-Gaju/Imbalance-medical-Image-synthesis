{
 "cells": [
  {
   "cell_type": "code",
   "execution_count": 3,
   "id": "c5be08d1",
   "metadata": {},
   "outputs": [],
   "source": [
    "# add_label_noise : adds label noise in the index positions - noise_ind\n",
    "# in the label array - data\n",
    "# This is an NCAR implementation - change the value of PN for percent noise change\n",
    "\n",
    "import numpy as np\n",
    "\n",
    "dirname = \"C:\\\\Users\\\\gazur\\\\Desktop\\\\Computer Vision\\\\Imbalance medical image synthesis with label noise\\\\DATASET\\\\Finale_Data/Features/NCAR\"\n",
    "train_y = np.load(\"C:\\\\Users\\\\gazur\\\\Desktop\\\\Computer Vision\\\\Imbalance medical image synthesis with label noise\\\\DATASET\\\\Finale_Data/y_upsampled.npy\")\n"
   ]
  },
  {
   "cell_type": "code",
   "execution_count": 17,
   "id": "8efe86c9",
   "metadata": {},
   "outputs": [],
   "source": [
    "# print(train_y[10])"
   ]
  },
  {
   "cell_type": "code",
   "execution_count": 5,
   "id": "b013d6f3",
   "metadata": {},
   "outputs": [
    {
     "name": "stdout",
     "output_type": "stream",
     "text": [
      "17.947141979102643 % label noise added.\n"
     ]
    }
   ],
   "source": [
    "\n",
    "# def add_label_noise(noise_ind, data):\n",
    "#     for i in range(len(noise_ind)):\n",
    "#         repl_ind = np.where(data[noise_ind[i]] == 1)\n",
    "#         data[noise_ind[i]][repl_ind] = 0\n",
    "#         chooser = np.delete(np.arange(data.shape[1]), repl_ind, 0)\n",
    "#         data[noise_ind[i]][chooser[np.random.choice(chooser.shape[0], 1)[0]]] = 1\n",
    "#     return data\n",
    "\n",
    "# PN = 2\n",
    "# while PN < 21:\n",
    "#     noise_amount = int((PN/100) * train_y.shape[0]) \n",
    "#     noise_index = np.random.choice(train_y.shape[0], noise_amount, replace=False)\n",
    "    \n",
    "#     data = np.copy(train_y)\n",
    "#     data = add_label_noise(noise_index, data)\n",
    "    \n",
    "#     filename = dirname + (\"\\\\_{0}\".format(PN))\n",
    "#     np.save(filename, data)\n",
    "#     PN = PN + 2\n",
    "\n",
    "t_y = np.load(\"C:\\\\Users\\\\gazur\\\\Desktop\\\\Computer Vision\\\\Imbalance medical image synthesis with label noise\\\\dataset\\\\Finale_Data/Features/NCAR/_18.npy\")\n",
    "#\n",
    "#'''------ verifying how many labels have been altered actually -----'''\n",
    "#\n",
    "change = [(train_y[i] == t_y[i]) for i in range(train_y.shape[0])]\n",
    "diff = []\n",
    "for i in range(len(change)):\n",
    "   if False in change[i]:\n",
    "       diff.append(i)\n",
    "print(100*len(diff)/train_y.shape[0], '% label noise added.')\n",
    "\n"
   ]
  },
  {
   "cell_type": "code",
   "execution_count": null,
   "id": "bc5a7364",
   "metadata": {},
   "outputs": [],
   "source": []
  }
 ],
 "metadata": {
  "kernelspec": {
   "display_name": "Python 3",
   "language": "python",
   "name": "python3"
  },
  "language_info": {
   "codemirror_mode": {
    "name": "ipython",
    "version": 3
   },
   "file_extension": ".py",
   "mimetype": "text/x-python",
   "name": "python",
   "nbconvert_exporter": "python",
   "pygments_lexer": "ipython3",
   "version": "3.6.13"
  }
 },
 "nbformat": 4,
 "nbformat_minor": 5
}
