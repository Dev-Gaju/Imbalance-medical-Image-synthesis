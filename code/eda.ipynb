{
 "cells": [
  {
   "cell_type": "markdown",
   "metadata": {},
   "source": [
    "### The messy exploration notebook!"
   ]
  },
  {
   "cell_type": "code",
   "execution_count": null,
   "metadata": {},
   "outputs": [
    {
     "name": "stderr",
     "output_type": "stream",
     "text": [
      "C:\\Anaconda\\envs\\keras_env\\lib\\site-packages\\tensorflow\\python\\framework\\dtypes.py:516: FutureWarning: Passing (type, 1) or '1type' as a synonym of type is deprecated; in a future version of numpy, it will be understood as (type, (1,)) / '(1,)type'.\n",
      "  _np_qint8 = np.dtype([(\"qint8\", np.int8, 1)])\n",
      "C:\\Anaconda\\envs\\keras_env\\lib\\site-packages\\tensorflow\\python\\framework\\dtypes.py:517: FutureWarning: Passing (type, 1) or '1type' as a synonym of type is deprecated; in a future version of numpy, it will be understood as (type, (1,)) / '(1,)type'.\n",
      "  _np_quint8 = np.dtype([(\"quint8\", np.uint8, 1)])\n",
      "C:\\Anaconda\\envs\\keras_env\\lib\\site-packages\\tensorflow\\python\\framework\\dtypes.py:518: FutureWarning: Passing (type, 1) or '1type' as a synonym of type is deprecated; in a future version of numpy, it will be understood as (type, (1,)) / '(1,)type'.\n",
      "  _np_qint16 = np.dtype([(\"qint16\", np.int16, 1)])\n",
      "C:\\Anaconda\\envs\\keras_env\\lib\\site-packages\\tensorflow\\python\\framework\\dtypes.py:519: FutureWarning: Passing (type, 1) or '1type' as a synonym of type is deprecated; in a future version of numpy, it will be understood as (type, (1,)) / '(1,)type'.\n",
      "  _np_quint16 = np.dtype([(\"quint16\", np.uint16, 1)])\n",
      "C:\\Anaconda\\envs\\keras_env\\lib\\site-packages\\tensorflow\\python\\framework\\dtypes.py:520: FutureWarning: Passing (type, 1) or '1type' as a synonym of type is deprecated; in a future version of numpy, it will be understood as (type, (1,)) / '(1,)type'.\n",
      "  _np_qint32 = np.dtype([(\"qint32\", np.int32, 1)])\n",
      "C:\\Anaconda\\envs\\keras_env\\lib\\site-packages\\tensorflow\\python\\framework\\dtypes.py:525: FutureWarning: Passing (type, 1) or '1type' as a synonym of type is deprecated; in a future version of numpy, it will be understood as (type, (1,)) / '(1,)type'.\n",
      "  np_resource = np.dtype([(\"resource\", np.ubyte, 1)])\n",
      "C:\\Anaconda\\envs\\keras_env\\lib\\site-packages\\tensorboard\\compat\\tensorflow_stub\\dtypes.py:541: FutureWarning: Passing (type, 1) or '1type' as a synonym of type is deprecated; in a future version of numpy, it will be understood as (type, (1,)) / '(1,)type'.\n",
      "  _np_qint8 = np.dtype([(\"qint8\", np.int8, 1)])\n",
      "C:\\Anaconda\\envs\\keras_env\\lib\\site-packages\\tensorboard\\compat\\tensorflow_stub\\dtypes.py:542: FutureWarning: Passing (type, 1) or '1type' as a synonym of type is deprecated; in a future version of numpy, it will be understood as (type, (1,)) / '(1,)type'.\n",
      "  _np_quint8 = np.dtype([(\"quint8\", np.uint8, 1)])\n",
      "C:\\Anaconda\\envs\\keras_env\\lib\\site-packages\\tensorboard\\compat\\tensorflow_stub\\dtypes.py:543: FutureWarning: Passing (type, 1) or '1type' as a synonym of type is deprecated; in a future version of numpy, it will be understood as (type, (1,)) / '(1,)type'.\n",
      "  _np_qint16 = np.dtype([(\"qint16\", np.int16, 1)])\n",
      "C:\\Anaconda\\envs\\keras_env\\lib\\site-packages\\tensorboard\\compat\\tensorflow_stub\\dtypes.py:544: FutureWarning: Passing (type, 1) or '1type' as a synonym of type is deprecated; in a future version of numpy, it will be understood as (type, (1,)) / '(1,)type'.\n",
      "  _np_quint16 = np.dtype([(\"quint16\", np.uint16, 1)])\n",
      "C:\\Anaconda\\envs\\keras_env\\lib\\site-packages\\tensorboard\\compat\\tensorflow_stub\\dtypes.py:545: FutureWarning: Passing (type, 1) or '1type' as a synonym of type is deprecated; in a future version of numpy, it will be understood as (type, (1,)) / '(1,)type'.\n",
      "  _np_qint32 = np.dtype([(\"qint32\", np.int32, 1)])\n",
      "C:\\Anaconda\\envs\\keras_env\\lib\\site-packages\\tensorboard\\compat\\tensorflow_stub\\dtypes.py:550: FutureWarning: Passing (type, 1) or '1type' as a synonym of type is deprecated; in a future version of numpy, it will be understood as (type, (1,)) / '(1,)type'.\n",
      "  np_resource = np.dtype([(\"resource\", np.ubyte, 1)])\n"
     ]
    }
   ],
   "source": [
    "import tensorflow\n",
    "tensorflow.__version__"
   ]
  },
  {
   "cell_type": "code",
   "execution_count": 4,
   "metadata": {},
   "outputs": [
    {
     "name": "stdout",
     "output_type": "stream",
     "text": [
      "Requirement already satisfied: tqdm in c:\\anaconda\\lib\\site-packages (4.62.0)\n",
      "Requirement already satisfied: colorama in c:\\anaconda\\lib\\site-packages (from tqdm) (0.4.4)\n"
     ]
    }
   ],
   "source": [
    "# !pip3 install tqdm"
   ]
  },
  {
   "cell_type": "code",
   "execution_count": 1,
   "metadata": {},
   "outputs": [
    {
     "data": {
      "text/plain": [
       "'2.3.0'"
      ]
     },
     "execution_count": 1,
     "metadata": {},
     "output_type": "execute_result"
    }
   ],
   "source": [
    "import tensorflow as tf\n",
    "# tf.__version__"
   ]
  },
  {
   "cell_type": "code",
   "execution_count": 5,
   "metadata": {},
   "outputs": [
    {
     "name": "stderr",
     "output_type": "stream",
     "text": [
      "Using TensorFlow backend.\n"
     ]
    }
   ],
   "source": [
    "import pandas as pd\n",
    "import matplotlib.pyplot as plt\n",
    "import seaborn as sns\n",
    "import os\n",
    "import sys\n",
    "import cv2\n",
    "from tensorflow import keras \n",
    "import numpy as np\n",
    "from tqdm import tqdm\n",
    "import keras\n",
    "from keras.utils import np_utils\n",
    "\n",
    "\n",
    "# Root directory of the project\n",
    "ROOT_DIR = os.path.abspath(\"../\")\n",
    "sys.path.append(ROOT_DIR)  \n",
    "import helpers"
   ]
  },
  {
   "cell_type": "code",
   "execution_count": null,
   "metadata": {},
   "outputs": [],
   "source": []
  },
  {
   "cell_type": "code",
   "execution_count": null,
   "metadata": {},
   "outputs": [],
   "source": [
    "\n",
    "def crop_and_resize(img, resize_dim=256):\n",
    "    img=cv2.resize(img,(resize_dim,resize_dim),interpolation=cv2.INTER_AREA)\n",
    "    return img\n",
    "\n",
    "\n",
    "\n",
    "def pad(im, desired_size = 256):\n",
    "    #import pdb; pdb.set_trace()\n",
    "    old_size = im.shape[:2] # old_size is in (height, width) format\n",
    "    ratio = float(desired_size)/max(old_size)\n",
    "    new_size = tuple([int(x*ratio) for x in old_size])\n",
    "\n",
    "    # new_size should be in (width, height) format\n",
    "    im = cv2.resize(im, (new_size[1], new_size[0]))\n",
    "    delta_w = desired_size - new_size[1]\n",
    "    delta_h = desired_size - new_size[0]\n",
    "    top, bottom = delta_h//2, delta_h-(delta_h//2)\n",
    "    left, right = delta_w//2, delta_w-(delta_w//2)\n",
    "\n",
    "    color = [0, 0, 0]\n",
    "    new_im = cv2.copyMakeBorder(im, top, bottom, left, right, cv2.BORDER_CONSTANT,\n",
    "        value=color)\n",
    "    \n",
    "    return new_im\n",
    "\n",
    "\n",
    "def get_data(path):\n",
    "    img=cv2.imread(path)\n",
    "    img=cv2.cvtColor(img,cv2.COLOR_BGR2RGB)\n",
    "    img=crop_and_resize(img)\n",
    "    return img"
   ]
  },
  {
   "cell_type": "code",
   "execution_count": null,
   "metadata": {},
   "outputs": [],
   "source": [
    "# Training file directory\n",
    "DATASET = os.path.join(ROOT_DIR, 'dataset')\n",
    "OUTPUTS = os.path.join(ROOT_DIR, 'outputs', 'auc')\n",
    "DATASET, OUTPUTS"
   ]
  },
  {
   "cell_type": "code",
   "execution_count": null,
   "metadata": {},
   "outputs": [],
   "source": [
    "os.listdir(DATASET + \"/isic2016\")"
   ]
  },
  {
   "cell_type": "code",
   "execution_count": null,
   "metadata": {},
   "outputs": [],
   "source": [
    "# IMAGES PATH\n",
    "IMAGES = os.path.join(DATASET, 'isic2016', 'ISBI2016_ISIC_Part3_Training_Data')\n",
    "# GROUND TRUTH PATH\n",
    "GT = os.path.join(DATASET, 'isic2016', 'ISBI2016_ISIC_Part3_Training_GroundTruth.csv')\n",
    "len(os.listdir(IMAGES)), len(os.listdir(IMAGES))"
   ]
  },
  {
   "cell_type": "code",
   "execution_count": null,
   "metadata": {},
   "outputs": [],
   "source": [
    "# Read the metadata\n",
    "df = pd.read_csv(GT, sep=',', names=[\"FILENAME\", \"CLASS\"])\n",
    "df.head()"
   ]
  },
  {
   "cell_type": "code",
   "execution_count": null,
   "metadata": {},
   "outputs": [],
   "source": [
    "# filenames and gts\n",
    "filenames = df['FILENAME'].values\n",
    "gt = df['CLASS'].values\n",
    "len(gt)"
   ]
  },
  {
   "cell_type": "code",
   "execution_count": null,
   "metadata": {},
   "outputs": [],
   "source": [
    "filenames[:6]"
   ]
  },
  {
   "cell_type": "code",
   "execution_count": null,
   "metadata": {},
   "outputs": [],
   "source": [
    "fig, ax = plt.subplots(1, 1, figsize= (10, 5))\n",
    "df['CLASS'].value_counts().plot(kind='bar', ax=ax, title=\"Histogram of labels\", color='g')\n",
    "\n",
    "helpers.create_directory(\"{}/outputs\".format(ROOT_DIR))\n",
    "ax.set_xlabel(\"Class labels\")\n",
    "ax.set_ylabel(\"Frequency\")\n",
    "#plt.savefig(\"{}/outputs/numberofclcasses.pdf\".format(ROOT_DIR), dpi=300)"
   ]
  },
  {
   "cell_type": "code",
   "execution_count": null,
   "metadata": {},
   "outputs": [],
   "source": [
    "gt[:10]"
   ]
  },
  {
   "cell_type": "code",
   "execution_count": null,
   "metadata": {},
   "outputs": [],
   "source": [
    "filenames[:10]"
   ]
  },
  {
   "cell_type": "code",
   "execution_count": null,
   "metadata": {},
   "outputs": [],
   "source": [
    "labels = []\n",
    "for s in gt:\n",
    "    if s == \"benign\" or s == 0.0 :\n",
    "        labels.append(0)\n",
    "    if s == \"malignant\" or s == 1.0:\n",
    "        labels.append(1)\n",
    "        \n",
    "len(labels)"
   ]
  },
  {
   "cell_type": "code",
   "execution_count": null,
   "metadata": {},
   "outputs": [],
   "source": [
    "labels[:10]"
   ]
  },
  {
   "cell_type": "code",
   "execution_count": null,
   "metadata": {},
   "outputs": [],
   "source": [
    "gt_t = []\n",
    "\n",
    "for g in labels:\n",
    "    if g == 0:\n",
    "        gt_t.append(\"Benign\")\n",
    "    else:\n",
    "        gt_t.append(\"Malignant\")\n",
    "        \n",
    "gt_t = np.array(gt_t)\n",
    "\n",
    "gt_t.shape"
   ]
  },
  {
   "cell_type": "code",
   "execution_count": null,
   "metadata": {},
   "outputs": [],
   "source": [
    "import seaborn as sns\n",
    "sns.set(style=\"whitegrid\", font_scale=1.7)\n",
    "ax =sns.countplot(x=gt_t, palette=\"Set2\")\n",
    "ax.set(ylabel='Number of Samples')\n",
    "plt.grid(False)\n",
    "plt.savefig(\"{}/outputs/numberofclcasses.pdf\".format(ROOT_DIR), dpi=1000)\n",
    "plt.show()"
   ]
  },
  {
   "cell_type": "code",
   "execution_count": null,
   "metadata": {},
   "outputs": [],
   "source": [
    "inp_feat = []\n",
    "g_t = []\n",
    "\n",
    "\n",
    "cancer = []\n",
    "non_cancer = []\n",
    "\n",
    "for f, l in tqdm(zip(filenames[:], labels[:])):\n",
    "    f = \"{}/{}.jpg\".format(IMAGES, f)\n",
    "    img = get_data(f)\n",
    "    inp_feat.append(img)\n",
    "    g_t.append(l)\n",
    "    if l == 1:\n",
    "        cancer.append(img)\n",
    "    if l == 0:\n",
    "        non_cancer.append(img)\n",
    "    else:\n",
    "        pass\n",
    "    img = None\n",
    "\n",
    "# make nummpy arrays\n",
    "#inp_feat = np.array(inp_feat)\n",
    "#g_t = np.array(g_t)\n",
    "\n",
    "cancer = np.array(cancer)\n",
    "non_cancer = np.array(non_cancer)\n",
    "\n",
    "#print(inp_feat.shape, g_t.shape)\n",
    "print(cancer.shape, non_cancer.shape)"
   ]
  },
  {
   "cell_type": "code",
   "execution_count": null,
   "metadata": {},
   "outputs": [],
   "source": [
    "#inp_feat.shape, g_t.shape"
   ]
  },
  {
   "cell_type": "code",
   "execution_count": null,
   "metadata": {},
   "outputs": [],
   "source": [
    "x = cancer[-20:]\n",
    "\n",
    "a, b = 4, 5\n",
    "x = np.reshape(x, (a, b, 256, 256, 3))\n",
    "\n",
    "y = non_cancer[-20:]\n",
    "y = np.reshape(y, (a, b, 256, 256, 3))\n",
    "\n",
    "x.shape, y.shape"
   ]
  },
  {
   "cell_type": "code",
   "execution_count": null,
   "metadata": {},
   "outputs": [],
   "source": [
    "from numpy.random import rand\n",
    "import matplotlib.pyplot as plt\n",
    "\n",
    "test_data = x\n",
    "r, c = test_data.shape[0], test_data.shape[1]\n",
    "cmaps = [['viridis', 'binary'], ['plasma', 'coolwarm'], ['Greens', 'copper']]\n",
    "\n",
    "heights = [a[0].shape[0] for a in test_data]\n",
    "widths = [a.shape[1] for a in test_data[0]]\n",
    "\n",
    "fig_width = 15.  # inches\n",
    "fig_height = fig_width * sum(heights) / sum(widths)\n",
    "\n",
    "f, axarr = plt.subplots(r,c, figsize=(fig_width, fig_height),\n",
    "        gridspec_kw={'height_ratios':heights})\n",
    "\n",
    "for i in range(r):\n",
    "    for j in range(c):\n",
    "        axarr[i, j].imshow(test_data[i][j])\n",
    "        axarr[i, j].axis('off')\n",
    "plt.subplots_adjust(wspace=0, hspace=0, left=0, right=1, bottom=0, top=1)\n",
    "plt.savefig('{}/{}.pdf'.format(\"{}/outputs/\".format(ROOT_DIR), \"cancer\"), dpi=1000)\n",
    "plt.show()"
   ]
  },
  {
   "cell_type": "code",
   "execution_count": null,
   "metadata": {},
   "outputs": [],
   "source": [
    "from numpy.random import rand\n",
    "import matplotlib.pyplot as plt\n",
    "\n",
    "test_data = y\n",
    "r, c = test_data.shape[0], test_data.shape[1]\n",
    "#test_data = np.array([[cancer[0], cancer[0]],[cancer[0], cancer[0]],[cancer[0], cancer[0]]])\n",
    "#test_data = np.array([[rand(10,10), rand(10,10)],[rand(5,10), rand(5,10)],[rand(2,10), rand(2,10)]])\n",
    "cmaps = [['viridis', 'binary'], ['plasma', 'coolwarm'], ['Greens', 'copper']]\n",
    "\n",
    "heights = [a[0].shape[0] for a in test_data]\n",
    "widths = [a.shape[1] for a in test_data[0]]\n",
    "\n",
    "fig_width = 15.  # inches\n",
    "fig_height = fig_width * sum(heights) / sum(widths)\n",
    "\n",
    "f, axarr = plt.subplots(r,c, figsize=(fig_width, fig_height),\n",
    "        gridspec_kw={'height_ratios':heights})\n",
    "\n",
    "for i in range(r):\n",
    "    for j in range(c):\n",
    "        axarr[i, j].imshow(test_data[i][j])\n",
    "        axarr[i, j].axis('off')\n",
    "plt.subplots_adjust(wspace=0, hspace=0, left=0, right=1, bottom=0, top=1)\n",
    "plt.savefig('{}/{}.pdf'.format(\"{}/outputs/\".format(ROOT_DIR), \"noncancer\"), dpi=1000)\n",
    "plt.show()"
   ]
  },
  {
   "cell_type": "code",
   "execution_count": null,
   "metadata": {},
   "outputs": [],
   "source": [
    "#helpers.show_images(cancer[:20], cols = 4, titles = None, save_fig = \"cancer_samples\", path=\"{}/outputs/\".format(ROOT_DIR))"
   ]
  },
  {
   "cell_type": "code",
   "execution_count": null,
   "metadata": {},
   "outputs": [],
   "source": [
    "#helpers.show_images(non_cancer[:20], cols = 4, titles = None, save_fig = \"normal_samples\", path=\"{}/outputs/\".format(ROOT_DIR))"
   ]
  },
  {
   "cell_type": "code",
   "execution_count": null,
   "metadata": {},
   "outputs": [],
   "source": [
    "# one hot encoded vectors\n",
    "num_classes = 2\n",
    "g_t_cat = np_utils.to_categorical(g_t,num_classes)\n",
    "print(g_t_cat.shape)"
   ]
  },
  {
   "cell_type": "code",
   "execution_count": null,
   "metadata": {},
   "outputs": [],
   "source": [
    "flat = np.array([np.argmax(pred) for pred in g_t_cat])\n",
    "np.count_nonzero(flat == 1), np.count_nonzero(flat == 0)"
   ]
  },
  {
   "cell_type": "code",
   "execution_count": null,
   "metadata": {},
   "outputs": [],
   "source": [
    "g_t_cat[:4]"
   ]
  },
  {
   "cell_type": "code",
   "execution_count": null,
   "metadata": {},
   "outputs": [],
   "source": [
    "helpers.imshow_group(inp_feat[-50:], g_t_cat[-50:])"
   ]
  },
  {
   "cell_type": "code",
   "execution_count": null,
   "metadata": {},
   "outputs": [],
   "source": [
    "inp_feat.shape, g_t_cat.shape"
   ]
  },
  {
   "cell_type": "code",
   "execution_count": null,
   "metadata": {},
   "outputs": [],
   "source": [
    "img_3d = inp_feat[0]\n",
    "img_flat = img_3d.flatten()\n",
    "print(min(img_flat), max(img_flat))"
   ]
  },
  {
   "cell_type": "code",
   "execution_count": null,
   "metadata": {},
   "outputs": [],
   "source": [
    "plt.hist(img_flat, bins=20, color='c')\n",
    "plt.title(\"Original input data distribution\")\n",
    "plt.xlabel(\"Pixel values\")\n",
    "plt.grid(True)\n",
    "plt.ylabel(\"Frequency\")\n",
    "plt.show()"
   ]
  },
  {
   "cell_type": "code",
   "execution_count": null,
   "metadata": {},
   "outputs": [],
   "source": [
    "# Test images path\n",
    "TEST_IMAGES = os.path.join(DATASET, 'isic2016', 'ISBI2016_ISIC_Part3_Test_Data')\n",
    "# Ground truth path\n",
    "TEST_GT = os.path.join(DATASET, 'isic2016', 'ISBI2016_ISIC_Part3_Test_GroundTruth.csv')\n",
    "# Read the metadata\n",
    "TEST_META = pd.read_csv(TEST_GT, sep=',', names=[\"FILENAME\", \"CLASS\"])"
   ]
  },
  {
   "cell_type": "code",
   "execution_count": null,
   "metadata": {},
   "outputs": [],
   "source": [
    "fig, ax = plt.subplots(1, 1, figsize= (10, 5))\n",
    "TEST_META['CLASS'].value_counts().plot(kind='bar', ax=ax, title=\"Histogram of labels\", color='b')\n",
    "\n",
    "helpers.create_directory(\"{}/outputs\".format(ROOT_DIR))\n",
    "ax.set_xlabel(\"Class labels\")\n",
    "ax.set_ylabel(\"Frequency\")\n",
    "plt.savefig(\"{}/outputs/test_setnumberofclcasses.png\".format(ROOT_DIR), dpi=100)"
   ]
  },
  {
   "cell_type": "code",
   "execution_count": null,
   "metadata": {},
   "outputs": [],
   "source": [
    "# filenames and gts\n",
    "filenames = TEST_META['FILENAME'].values\n",
    "gt = TEST_META['CLASS'].values\n",
    "\n",
    "# convert string labels to numeric values\n",
    "labels = []\n",
    "for s in gt:\n",
    "    if s == \"benign\" or s == 0.0 :\n",
    "        labels.append(0)\n",
    "    if s == \"malignant\" or s == 1.0:\n",
    "        labels.append(1)\n",
    "\n",
    "# all training images and labels     \n",
    "inp_feat = []\n",
    "g_t = []\n",
    "\n",
    "# two classes individually\n",
    "cancer = []\n",
    "non_cancer = []\n",
    "\n",
    "for f, l in tqdm(zip(filenames[:], labels[:])):\n",
    "    f = \"{}/{}.jpg\".format(TEST_IMAGES, f)\n",
    "    img = get_data(f)\n",
    "    inp_feat.append(img)\n",
    "    g_t.append(l)\n",
    "\n",
    "    #----------------\n",
    "    if l == 1:\n",
    "        cancer.append(img)\n",
    "    if l == 0:\n",
    "        non_cancer.append(img)\n",
    "    else:\n",
    "        pass\n",
    "    #-----------------\n",
    "\n",
    "    img = None\n",
    "\n",
    "# make nummpy arrays\n",
    "inp_feat = np.array(inp_feat)\n",
    "g_t = np.array(g_t)\n",
    "\n",
    "# one hot encoded vectors\n",
    "num_classes = 2\n",
    "g_t = np_utils.to_categorical(g_t,num_classes)\n",
    "\n",
    "cancer = np.array(cancer)\n",
    "non_cancer = np.array(non_cancer)\n",
    "\n",
    "print(inp_feat.shape, g_t.shape)"
   ]
  },
  {
   "cell_type": "code",
   "execution_count": null,
   "metadata": {},
   "outputs": [],
   "source": [
    "gt = np.array([np.argmax(y) for y in g_t])\n",
    "\n",
    "gt_t = []\n",
    "\n",
    "for g in gt:\n",
    "    if g == 0:\n",
    "        gt_t.append(\"Benign\")\n",
    "    else:\n",
    "        gt_t.append(\"Malignant\")\n",
    "        \n",
    "gt_t = np.array(gt_t)\n",
    "\n",
    "gt_t.shape"
   ]
  },
  {
   "cell_type": "code",
   "execution_count": null,
   "metadata": {},
   "outputs": [],
   "source": [
    "ax =sns.countplot(x=gt, palette=\"Set2\")\n",
    "ax.set(xlabel='Class Labels', ylabel='Number of Samples')\n",
    "plt.savefig(\"{}/outputs/test_numberofclcasses.pdf\".format(ROOT_DIR), dpi=300)\n",
    "plt.show()"
   ]
  },
  {
   "cell_type": "code",
   "execution_count": null,
   "metadata": {},
   "outputs": [],
   "source": [
    "print(cancer.shape, non_cancer.shape)"
   ]
  },
  {
   "cell_type": "code",
   "execution_count": null,
   "metadata": {},
   "outputs": [],
   "source": [
    "helpers.imshow_group(inp_feat[-50:], g_t_cat[-50:])"
   ]
  },
  {
   "cell_type": "markdown",
   "metadata": {},
   "source": [
    "### Some fancy graphs "
   ]
  },
  {
   "cell_type": "code",
   "execution_count": null,
   "metadata": {},
   "outputs": [],
   "source": [
    "import matplotlib\n",
    "import matplotlib.pyplot as plt\n",
    "import numpy as np\n",
    "\n",
    "labels = ['VGG-GAP \\n Baseline', 'VGG-GAP+ \\nAugment-5x', 'VGG-GAP+\\nAugment-10x', 'VGG-GAP+ \\nMeGAN']\n",
    "\n",
    "auc = [79.08, 78.81, 79.56, 81.18]\n",
    "postive_misslcass = [55, 51, 47, 22]\n",
    "sensitivity = [84.46, 85.34, 86.09, 91.76]\n",
    "\n",
    "x = np.arange(len(labels))  # the label locations\n",
    "width = 0.28  # the width of the bars\n",
    "\n",
    "\n",
    "import seaborn as sns\n",
    "sns.set(style=\"whitegrid\", palette=\"Set2\")\n",
    "fig, ax = plt.subplots()\n",
    "\n",
    "\n",
    "rects1 = ax.bar(x - width/2, auc, width, label='AUC')\n",
    "rects2 = ax.bar(x + width/2, postive_misslcass, width, label='False negatives')\n",
    "rects3 = ax.bar(x - width/2 * 3.08, sensitivity, width, label='Sensitivity')\n",
    "\n",
    "ax.set_ylabel('Performance Measure', fontsize=14)\n",
    "#ax.set_title('Results')\n",
    "ax.set_xticks(x)\n",
    "ax.set_xticklabels(labels, rotation=0, fontsize=12)\n",
    "ax.legend(loc='lower left')\n",
    "ax.set_ylim([0,100])\n",
    "ax.grid(True)\n",
    "\n",
    "def autolabel(rects):\n",
    "    \"\"\"Attach a text label above each bar in *rects*, displaying its height.\"\"\"\n",
    "    for rect in rects:\n",
    "        height = rect.get_height()\n",
    "        ax.annotate('{}'.format(height),\n",
    "                    xy=(rect.get_x() + rect.get_width() / 2, height),\n",
    "                    xytext=(0, 3),  # 3 points vertical offset\n",
    "                    textcoords=\"offset points\",\n",
    "                    ha='center', va='bottom')\n",
    "        \n",
    "\n",
    "def autolabel_(rects):\n",
    "    \"\"\"Attach a text label above each bar in *rects*, displaying its height.\"\"\"\n",
    "    for rect in rects:\n",
    "        height = rect.get_height()\n",
    "        ax.annotate('{}%'.format(height),\n",
    "                    xy=( 0.15 + rect.get_x() + rect.get_width() / 2, height),\n",
    "                    xytext=(0, 3),  # 3 points vertical offset\n",
    "                    textcoords=\"offset points\",\n",
    "                    ha='center', va='bottom')\n",
    "\n",
    "\n",
    "\n",
    "autolabel_(rects1) # %\n",
    "autolabel(rects2)\n",
    "autolabel_(rects3) # %\n",
    "\n",
    "fig.tight_layout()\n",
    "plt.grid(False)\n",
    "plt.savefig(\"{}/outputs/results.pdf\".format(ROOT_DIR), dpi=1200)\n",
    "plt.show()"
   ]
  },
  {
   "cell_type": "code",
   "execution_count": null,
   "metadata": {},
   "outputs": [],
   "source": [
    "import pickle\n",
    "\n",
    "def save_obj(obj, name):\n",
    "    with open('{}/'.format(OUTPUTS) + name + '.pkl', 'wb') as f:\n",
    "        pickle.dump(obj, f, pickle.HIGHEST_PROTOCOL)\n",
    "\n",
    "\n",
    "def load_obj(name):\n",
    "    with open('{}/'.format(OUTPUTS) + name + '.pkl', 'rb') as f:\n",
    "        return pickle.load(f)\n",
    "\n",
    "def get_unique(arr):\n",
    "  '''\n",
    "  Return unique elements in list\n",
    "  '''\n",
    "  arr = set(arr)\n",
    "  return arr\n",
    "\n",
    "#raw_features = load_obj('raw_features')\n",
    "#target = load_obj('target')"
   ]
  },
  {
   "cell_type": "code",
   "execution_count": null,
   "metadata": {},
   "outputs": [],
   "source": [
    "exp1 = load_obj('1')\n",
    "exp2 = load_obj('2')\n",
    "exp3 = load_obj('3')\n",
    "exp4 = load_obj('4')\n",
    "exp1"
   ]
  },
  {
   "cell_type": "code",
   "execution_count": null,
   "metadata": {},
   "outputs": [],
   "source": [
    "import numpy as np\n",
    "import matplotlib.pyplot as plt\n",
    "from itertools import cycle\n",
    "\n",
    "from sklearn import svm, datasets\n",
    "from sklearn.metrics import roc_curve, auc\n",
    "from sklearn.model_selection import train_test_split\n",
    "from sklearn.preprocessing import label_binarize\n",
    "from sklearn.multiclass import OneVsRestClassifier\n",
    "from scipy import interp\n",
    "\n",
    "\n",
    "lw = 1\n",
    "plt.figure()\n",
    "labels = ['VGG-GAP Baseline', 'VGG-GAP + Augment-5x', 'VGG-GAP + Augment-10x', 'VGG-GAP + MeGAN']\n",
    "plt.plot(exp1[\"fpr\"], exp1[\"tpr\"], color='c', lw=lw, linestyle = \"--\", label='VGG-GAP Baseline (AUC = {0:.2f}%)'.format(exp1[\"roc_auc\"] * 100))\n",
    "plt.plot(exp2[\"fpr\"], exp2[\"tpr\"], color='b', lw=lw, label='VGG-GAP + Augment-5x (AUC = {0:.2f}%)'.format(exp2[\"roc_auc\"] * 100))\n",
    "plt.plot(exp3[\"fpr\"], exp3[\"tpr\"], color='g', lw=lw, label='VGG-GAP + Augment-10x (AUC = {0:.2f}%)'.format(exp3[\"roc_auc\"] * 100))\n",
    "plt.plot(exp4[\"fpr\"], exp4[\"tpr\"], color='r', lw=lw,label='VGG-GAP + MeGAN (AUC = {0:.2f}%)'.format(exp4[\"roc_auc\"] * 100))\n",
    "\n",
    "plt.plot([0, 1], [0, 1], color='darkorange', lw=lw)\n",
    "plt.xlim([0.0, 1.0])\n",
    "plt.ylim([0.0, 1.05])\n",
    "plt.grid(False)\n",
    "plt.xlabel('False Positive Rate', fontsize=14)\n",
    "plt.ylabel('True Positive Rate', fontsize=14)\n",
    "plt.legend(loc=\"lower right\")\n",
    "plt.savefig(\"{}/auc.pdf\".format(OUTPUTS), dpi=1000)\n",
    "plt.show()"
   ]
  },
  {
   "cell_type": "code",
   "execution_count": null,
   "metadata": {},
   "outputs": [],
   "source": []
  }
 ],
 "metadata": {
  "kernelspec": {
   "display_name": "Python 3",
   "language": "python",
   "name": "python3"
  },
  "language_info": {
   "codemirror_mode": {
    "name": "ipython",
    "version": 3
   },
   "file_extension": ".py",
   "mimetype": "text/x-python",
   "name": "python",
   "nbconvert_exporter": "python",
   "pygments_lexer": "ipython3",
   "version": "3.6.13"
  }
 },
 "nbformat": 4,
 "nbformat_minor": 4
}
