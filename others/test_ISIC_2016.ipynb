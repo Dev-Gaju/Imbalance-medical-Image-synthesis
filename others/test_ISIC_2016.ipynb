{
 "cells": [
  {
   "cell_type": "markdown",
   "metadata": {
    "colab_type": "text",
    "id": "9LDeJ4y9v3T-"
   },
   "source": [
    "### Test a trained model"
   ]
  },
  {
   "cell_type": "code",
   "execution_count": null,
   "metadata": {
    "colab": {
     "base_uri": "https://localhost:8080/",
     "height": 605
    },
    "colab_type": "code",
    "executionInfo": {
     "elapsed": 35945,
     "status": "ok",
     "timestamp": 1576713087175,
     "user": {
      "displayName": "Md Hasib Zunair 1320262643",
      "photoUrl": "",
      "userId": "12069756592370329757"
     },
     "user_tz": 300
    },
    "id": "5oY3kknQnBX4",
    "outputId": "84bcd07b-5939-408b-9de1-2f3a1e5c071b"
   },
   "outputs": [],
   "source": [
    "# Import libs\n",
    "import os \n",
    "import time\n",
    "import random\n",
    "import cv2\n",
    "import numpy as np\n",
    "import matplotlib.pyplot as plt\n",
    "from keras import optimizers\n",
    "import keras\n",
    "import tensorflow as tf\n",
    "import keras.backend as K\n",
    "from sklearn.metrics import confusion_matrix, classification_report\n",
    "from keras.models import load_model\n",
    "from keras.models import Sequential\n",
    "from keras.regularizers import l2\n",
    "from keras.applications.vgg16 import VGG16\n",
    "from keras.preprocessing.image import ImageDataGenerator\n",
    "from keras.callbacks import ModelCheckpoint, CSVLogger, EarlyStopping, ReduceLROnPlateau\n",
    "from sklearn.metrics import accuracy_score\n",
    "from sklearn.metrics import confusion_matrix, classification_report\n",
    "from sklearn.metrics import roc_curve, auc, roc_auc_score\n",
    "import matplotlib.pyplot as plt\n",
    "from tqdm import tqdm\n",
    "from keras.utils import np_utils\n",
    "from imgaug import augmenters as iaa    \n",
    "import itertools\n",
    "import pickle\n",
    "import umap\n",
    "import time\n",
    "from sklearn.datasets import fetch_openml\n",
    "import matplotlib.pyplot as plt\n",
    "import seaborn as sns\n",
    "\n",
    "\n",
    "np.random.seed(42)\n",
    "\n",
    "\n",
    "# Experiment name\n",
    "#########################################################################################\n",
    "exp_list = [\"b2m_510_2nd\", \"1_vgg_baseline\", \"2_vgg_offline_aug\", \"3_vgg_offline_aug_10x\", \"4_gan_100\"] # 571\n",
    "EXP_NAME = \"results\"\n",
    "#########################################################################################\n",
    "\n",
    "# Define paths\n",
    "base_path = os.path.abspath(\"../\")\n",
    "dataset_path = os.path.join(base_path, \"dataset\", \"isic2016numpy\")\n",
    "print(\"Contents in folder:\", os.listdir(dataset_path))\n",
    "\n",
    "# Set output path\n",
    "output_path = os.path.join(base_path, EXP_NAME)\n",
    "print(output_path)\n",
    "\n",
    "\n",
    "# Print version\n",
    "print(\"Keras Version\", keras.__version__)\n",
    "print(\"Tensorflow Version\", tf.__version__)\n",
    "\n",
    "# GPU test\n",
    "from tensorflow.python.client import device_lib\n",
    "def get_available_gpus():\n",
    "    local_device_protos = device_lib.list_local_devices()\n",
    "    return [x.name for x in local_device_protos if x.device_type == 'GPU']\n",
    "\n",
    "# Helpers\n",
    "def save_obj(obj, name):\n",
    "    with open('{}'.format(base_path) + name + '.pkl', 'wb') as f:\n",
    "        pickle.dump(obj, f, pickle.HIGHEST_PROTOCOL)\n",
    "\n",
    "\n",
    "def load_obj(name):\n",
    "    with open('{}'.format(base_path) + name + '.pkl', 'rb') as f:\n",
    "        return pickle.load(f)\n",
    "\n",
    "def get_unique(arr):\n",
    "  '''\n",
    "  Return unique elements in list\n",
    "  '''\n",
    "  arr = set(arr)\n",
    "  return arr\n",
    "\n",
    "\n",
    "print(get_available_gpus())\n",
    "\n",
    "# Get compute specs\n",
    "#from tensorflow.python.client import device_lib\n",
    "#device_lib.list_local_devices()\n",
    "\n",
    "# Load test data\n",
    "x_test = np.load(\"{}/x_test.npy\".format(dataset_path))\n",
    "y_test = np.load(\"{}/y_test.npy\".format(dataset_path))\n",
    "\n",
    "# Standardize\n",
    "x_test = x_test.astype('float32')\n",
    "x_test /= 255\n",
    "assert min(x_test.flatten()) == 0.0, \"Not preprocessed\"\n",
    "\n",
    "# Show shape\n",
    "print(\"Dataset sample size :\", x_test.shape, y_test.shape)\n",
    "\n",
    "\n",
    "# Model path\n",
    "weights_path = \"{}/{}.h5\".format(output_path, EXP_NAME)\n",
    "model = load_model(weights_path, compile = False) \n",
    "print(\"Model loaded\")\n",
    "\n",
    "\n",
    "# Make predictions using trained model\n",
    "y_pred = model.predict(x_test, verbose=1)\n",
    "print(\"Predictions: \", y_pred.shape)\n",
    "\n",
    "\n",
    "# Convert ground truth to column values\n",
    "y_test_flat = np.argmax(y_test, axis=1)\n",
    "print(\"After flattening ground truth: \", y_test_flat.shape)\n",
    "\n",
    "\n",
    "# Get labels from predictions\n",
    "y_pred_flat = np.array([np.argmax(pred) for pred in y_pred]) # y_pred[1] -> probability for class 1 \n",
    "print(\"Binarize probability values: \", y_pred_flat.shape)\n",
    "\n",
    "assert y_pred_flat.shape == y_test_flat.shape, \"Shape mismatch!\""
   ]
  },
  {
   "cell_type": "code",
   "execution_count": null,
   "metadata": {
    "colab": {
     "base_uri": "https://localhost:8080/",
     "height": 34
    },
    "colab_type": "code",
    "executionInfo": {
     "elapsed": 15182,
     "status": "ok",
     "timestamp": 1575860500826,
     "user": {
      "displayName": "Md Hasib Zunair 1320262643",
      "photoUrl": "",
      "userId": "12069756592370329757"
     },
     "user_tz": 300
    },
    "id": "gDwxpz2xOtEl",
    "outputId": "59ffc0a2-be4d-46ea-f817-885ea8bc5520"
   },
   "outputs": [],
   "source": [
    "# Sanity check\n",
    "print(y_test.shape, y_test_flat.shape, y_pred.shape, y_pred_flat.shape)"
   ]
  },
  {
   "cell_type": "code",
   "execution_count": null,
   "metadata": {
    "colab": {
     "base_uri": "https://localhost:8080/",
     "height": 34
    },
    "colab_type": "code",
    "executionInfo": {
     "elapsed": 14949,
     "status": "ok",
     "timestamp": 1575860500828,
     "user": {
      "displayName": "Md Hasib Zunair 1320262643",
      "photoUrl": "",
      "userId": "12069756592370329757"
     },
     "user_tz": 300
    },
    "id": "mO0eC0xFoaQB",
    "outputId": "be83e62a-1151-411c-ce0b-449c79fdd3c2"
   },
   "outputs": [],
   "source": [
    "# Accuracy\n",
    "\n",
    "acc = accuracy_score(y_test_flat, y_pred_flat) * 100\n",
    "print(\"Accuracy :\", acc)"
   ]
  },
  {
   "cell_type": "code",
   "execution_count": null,
   "metadata": {
    "colab": {
     "base_uri": "https://localhost:8080/",
     "height": 34
    },
    "colab_type": "code",
    "executionInfo": {
     "elapsed": 14706,
     "status": "ok",
     "timestamp": 1575860500832,
     "user": {
      "displayName": "Md Hasib Zunair 1320262643",
      "photoUrl": "",
      "userId": "12069756592370329757"
     },
     "user_tz": 300
    },
    "id": "WR9IBxuvovfy",
    "outputId": "47c47338-549d-4fc4-90c2-8cc2ee7877f6"
   },
   "outputs": [],
   "source": [
    "# Average precision\n",
    "\n",
    "from sklearn.metrics import average_precision_score\n",
    "ap = average_precision_score(y_test, y_pred) * 100\n",
    "print(\"Average precision :\", ap)"
   ]
  },
  {
   "cell_type": "code",
   "execution_count": null,
   "metadata": {
    "colab": {
     "base_uri": "https://localhost:8080/",
     "height": 208
    },
    "colab_type": "code",
    "executionInfo": {
     "elapsed": 14427,
     "status": "ok",
     "timestamp": 1575860500834,
     "user": {
      "displayName": "Md Hasib Zunair 1320262643",
      "photoUrl": "",
      "userId": "12069756592370329757"
     },
     "user_tz": 300
    },
    "id": "AchUYtQqoy9W",
    "outputId": "e88c6a1c-3598-41fb-f871-07622538017c"
   },
   "outputs": [],
   "source": [
    "# Classification report\n",
    "\n",
    "confusion_mtx = confusion_matrix(y_test_flat, y_pred_flat) \n",
    "print(confusion_mtx)\n",
    "target_names = ['0', '1']\n",
    "print(classification_report(y_test_flat, y_pred_flat, target_names=target_names))"
   ]
  },
  {
   "cell_type": "code",
   "execution_count": null,
   "metadata": {
    "colab": {
     "base_uri": "https://localhost:8080/",
     "height": 629
    },
    "colab_type": "code",
    "executionInfo": {
     "elapsed": 14744,
     "status": "ok",
     "timestamp": 1575860501289,
     "user": {
      "displayName": "Md Hasib Zunair 1320262643",
      "photoUrl": "",
      "userId": "12069756592370329757"
     },
     "user_tz": 300
    },
    "id": "aFnwiWjT51Du",
    "outputId": "720f2e6b-d0e6-46e7-9877-cd953f1442fc"
   },
   "outputs": [],
   "source": [
    "import matplotlib.pyplot as plt\n",
    "\n",
    "plt.rcParams[\"axes.grid\"] = False\n",
    "plt.rcParams.update({'font.size': 20})\n",
    "\n",
    "from sklearn.metrics import confusion_matrix\n",
    "cm = confusion_matrix(y_test_flat,y_pred_flat)\n",
    "\n",
    "labels = ['0', '1']\n",
    "    \n",
    "import itertools\n",
    "def plot_confusion_matrix(cm, classes,\n",
    "                          normalize=False,\n",
    "                          title='Confusion matrix',\n",
    "                          cmap=plt.cm.Blues):\n",
    "    accuracy = np.trace(cm) / float(np.sum(cm))\n",
    "    misclass = 1 - accuracy\n",
    "    if normalize:\n",
    "        cm = cm.astype('float') / cm.sum(axis=1)[:, np.newaxis]\n",
    "        print(\"Normalized confusion matrix\")\n",
    "    else:\n",
    "        print('Confusion Matrix')\n",
    "\n",
    "    print(cm)\n",
    "#     fig = plt.figure()\n",
    "    plt.imshow(cm, interpolation='nearest', cmap=cmap)\n",
    "    plt.title(title)\n",
    "    plt.colorbar()\n",
    "    tick_marks = np.arange(len(classes))\n",
    "    plt.xticks(tick_marks, classes, rotation=45)\n",
    "    plt.yticks(tick_marks, classes)\n",
    "\n",
    "    fmt = '.2f' if normalize else 'd'\n",
    "    thresh = cm.max() / 2.\n",
    "    for i, j in itertools.product(range(cm.shape[0]), range(cm.shape[1])):\n",
    "        plt.text(j, i, format(cm[i, j], fmt),\n",
    "                 horizontalalignment=\"center\",\n",
    "                 color=\"white\" if cm[i, j] > thresh else \"black\")\n",
    "\n",
    "    plt.tight_layout()\n",
    "    plt.ylabel('True label')\n",
    "    plt.xlabel('Predicted label\\naccuracy={:0.4f}; misclass={:0.4f}'.format(accuracy, misclass))\n",
    "#     plt.savefig('plots/3.InceptionV3-2-Private-DataSet-CM.png', bbox_inches='tight', dpi = 100) \n",
    "plt.figure(figsize=(8,8))\n",
    "\n",
    "# plot CF fancy image\n",
    "plot_confusion_matrix(cm, classes=labels,\n",
    "                      title='Confusion Matrix')"
   ]
  },
  {
   "cell_type": "code",
   "execution_count": null,
   "metadata": {
    "colab": {
     "base_uri": "https://localhost:8080/",
     "height": 52
    },
    "colab_type": "code",
    "executionInfo": {
     "elapsed": 14568,
     "status": "ok",
     "timestamp": 1575860501292,
     "user": {
      "displayName": "Md Hasib Zunair 1320262643",
      "photoUrl": "",
      "userId": "12069756592370329757"
     },
     "user_tz": 300
    },
    "id": "W711c5rvo4m9",
    "outputId": "f67efb6c-dd69-478c-bd04-34723bea00f1"
   },
   "outputs": [],
   "source": [
    "# Sensitivity and Specificity\n",
    "\n",
    "cm = confusion_matrix(y_pred=y_pred_flat, y_true=y_test_flat)\n",
    "total=sum(sum(cm))\n",
    "\n",
    "sensitivity = cm[0,0]/(cm[0,0]+cm[1,0])\n",
    "print('Sensitivity : ', sensitivity*100 )\n",
    "\n",
    "Specificity = cm[1,1]/(cm[1,1]+cm[0,1])\n",
    "print('Specificity : ', Specificity*100 )"
   ]
  },
  {
   "cell_type": "code",
   "execution_count": null,
   "metadata": {
    "colab": {
     "base_uri": "https://localhost:8080/",
     "height": 347
    },
    "colab_type": "code",
    "executionInfo": {
     "elapsed": 14285,
     "status": "ok",
     "timestamp": 1575860501294,
     "user": {
      "displayName": "Md Hasib Zunair 1320262643",
      "photoUrl": "",
      "userId": "12069756592370329757"
     },
     "user_tz": 300
    },
    "id": "mlbJn1AdGnsI",
    "outputId": "1428b57b-48d6-43f5-f0de-25a46bbea7f5"
   },
   "outputs": [],
   "source": [
    "y_pred[:10], y_test[:10]"
   ]
  },
  {
   "cell_type": "code",
   "execution_count": null,
   "metadata": {
    "colab": {},
    "colab_type": "code",
    "id": "VFx3TB1RJqJ6"
   },
   "outputs": [],
   "source": [
    "#pred_y = np.array([x[1] for x in y_pred])\n",
    "#pred_y.shape\n",
    "#pred_y[:10], y_test_flat[:10]"
   ]
  },
  {
   "cell_type": "code",
   "execution_count": null,
   "metadata": {
    "colab": {
     "base_uri": "https://localhost:8080/",
     "height": 34
    },
    "colab_type": "code",
    "executionInfo": {
     "elapsed": 13812,
     "status": "ok",
     "timestamp": 1575860501297,
     "user": {
      "displayName": "Md Hasib Zunair 1320262643",
      "photoUrl": "",
      "userId": "12069756592370329757"
     },
     "user_tz": 300
    },
    "id": "s6ylcvAUbkuW",
    "outputId": "806e4d89-81cc-4e64-ee5b-4b0b4d311bd3"
   },
   "outputs": [],
   "source": [
    "from sklearn.metrics import roc_auc_score\n",
    "print('Area under ROC curve : ', roc_auc_score(y_test, y_pred) *100 )"
   ]
  },
  {
   "cell_type": "code",
   "execution_count": null,
   "metadata": {
    "colab": {
     "base_uri": "https://localhost:8080/",
     "height": 339
    },
    "colab_type": "code",
    "executionInfo": {
     "elapsed": 13189,
     "status": "ok",
     "timestamp": 1575860501299,
     "user": {
      "displayName": "Md Hasib Zunair 1320262643",
      "photoUrl": "",
      "userId": "12069756592370329757"
     },
     "user_tz": 300
    },
    "id": "n6FFQyOybk0Q",
    "outputId": "d170c13f-eafb-4c0e-d36f-0187e3b71229"
   },
   "outputs": [],
   "source": [
    "import numpy as np\n",
    "import matplotlib.pyplot as plt\n",
    "from itertools import cycle\n",
    "from sklearn import svm, datasets\n",
    "from sklearn.metrics import roc_curve, auc\n",
    "from sklearn.model_selection import train_test_split\n",
    "from sklearn.preprocessing import label_binarize\n",
    "from sklearn.multiclass import OneVsRestClassifier\n",
    "from scipy import interp\n",
    "\n",
    "\n",
    "# Compute ROC curve and ROC area for each class\n",
    "fpr = dict()\n",
    "tpr = dict()\n",
    "roc_auc = dict()\n",
    "for i in range(2):\n",
    "    fpr[i], tpr[i], _ = roc_curve(y_test[:, i], y_pred[:, i])\n",
    "    roc_auc[i] = auc(fpr[i], tpr[i])\n",
    "\n",
    "\n",
    "# Compute micro-average ROC curve and ROC area\n",
    "cls = 1 # class name\n",
    "fpr[\"micro\"], tpr[\"micro\"], _ = roc_curve(y_test.ravel(), y_pred.ravel())\n",
    "roc_auc[\"micro\"] = auc(fpr[\"micro\"], tpr[\"micro\"])\n",
    "\n",
    "#print(roc_auc)\n",
    "print(\"Area under the ROC curve for positive class:\", roc_auc[1])\n",
    "\n",
    "\n",
    "plt.figure()\n",
    "lw = 2 # line width\n",
    "plt.plot(fpr[cls], tpr[cls], color='darkorange', lw=lw, label='ROC curve (area = %0.2f)' % roc_auc[cls])\n",
    "plt.plot([0, 1], [0, 1], color='navy', lw=lw, linestyle='--')\n",
    "plt.xlim([0.0, 1.0])\n",
    "plt.ylim([0.0, 1.05])\n",
    "plt.xlabel('False Positive Rate')\n",
    "plt.ylabel('True Positive Rate')\n",
    "plt.title('Receiver operating characteristic example')\n",
    "plt.legend(loc=\"lower right\")\n",
    "plt.show()\n",
    "\n",
    "# Save AUCROC for plotting\n",
    "#ascore = {}\n",
    "#ascore[\"fpr\"] = fpr[cls]\n",
    "#ascore[\"tpr\"] = tpr[cls]\n",
    "#ascore[\"roc_auc\"] = roc_auc[cls]\n",
    "#save_obj(ascore, EXP_NAME)\n",
    "\n",
    "#type(fpr[cls]), roc_auc[cls]"
   ]
  },
  {
   "cell_type": "markdown",
   "metadata": {
    "colab_type": "text",
    "id": "rkxOGDH3Pb1K"
   },
   "source": [
    "### t-SNE"
   ]
  },
  {
   "cell_type": "code",
   "execution_count": null,
   "metadata": {
    "colab": {
     "base_uri": "https://localhost:8080/",
     "height": 35
    },
    "colab_type": "code",
    "executionInfo": {
     "elapsed": 912,
     "status": "ok",
     "timestamp": 1573790955360,
     "user": {
      "displayName": "Hasib Zunair",
      "photoUrl": "https://lh3.googleusercontent.com/a-/AAuE7mBaB1PKP9DvU28TikrNBzJWX6BYyZ9lAcY1BJuwnQ=s64",
      "userId": "17761777555576586389"
     },
     "user_tz": 300
    },
    "id": "7ZIxvID3VlVc",
    "outputId": "7f8cab8b-9d5d-4f51-ef9c-9a48d09428c0"
   },
   "outputs": [],
   "source": [
    "titles = ['VGG-GAP Baseline', 'VGG-GAP + Augment-5x', 'VGG-GAP + Augment-10x', 'VGG-GAP + MeGAN']\n",
    "\n",
    "predicts = np.vstack(y_pred_flat)\n",
    "classes = np.hstack(y_test_flat)\n",
    "predicts.shape, classes.shape\n",
    "\n",
    "classes_cat = []\n",
    "\n",
    "for c in classes:\n",
    "  if c==0:\n",
    "    classes_cat.append(\"Benign\")\n",
    "  else:\n",
    "    classes_cat.append(\"Malignant\")\n",
    "\n",
    "len(classes_cat)"
   ]
  },
  {
   "cell_type": "code",
   "execution_count": null,
   "metadata": {
    "colab": {
     "base_uri": "https://localhost:8080/",
     "height": 284
    },
    "colab_type": "code",
    "executionInfo": {
     "elapsed": 3519,
     "status": "ok",
     "timestamp": 1573790959861,
     "user": {
      "displayName": "Hasib Zunair",
      "photoUrl": "https://lh3.googleusercontent.com/a-/AAuE7mBaB1PKP9DvU28TikrNBzJWX6BYyZ9lAcY1BJuwnQ=s64",
      "userId": "17761777555576586389"
     },
     "user_tz": 300
    },
    "id": "A4HikzX8ReJT",
    "outputId": "336afcd2-d57d-4245-beab-559f3dce7f30"
   },
   "outputs": [],
   "source": [
    "import seaborn\n",
    "from sklearn.manifold import TSNE\n",
    "\n",
    "tsne = TSNE(n_components=2, random_state=2)\n",
    "tsne_data = tsne.fit_transform(predicts)\n",
    "\n",
    "seaborn.scatterplot(tsne_data[:,0], tsne_data[:,1], hue=classes_cat)\n",
    "#plt.savefig(\"{}/{}_tSNE.pdf\".format(base_path, EXP_NAME), dpi=300)"
   ]
  },
  {
   "cell_type": "code",
   "execution_count": null,
   "metadata": {
    "colab": {
     "base_uri": "https://localhost:8080/",
     "height": 732
    },
    "colab_type": "code",
    "executionInfo": {
     "elapsed": 3285,
     "status": "ok",
     "timestamp": 1573791424049,
     "user": {
      "displayName": "Hasib Zunair",
      "photoUrl": "https://lh3.googleusercontent.com/a-/AAuE7mBaB1PKP9DvU28TikrNBzJWX6BYyZ9lAcY1BJuwnQ=s64",
      "userId": "17761777555576586389"
     },
     "user_tz": 300
    },
    "id": "hntHjauJSspm",
    "outputId": "83137817-9283-4856-a8a2-6c325ddaa80c"
   },
   "outputs": [],
   "source": [
    "from sklearn.decomposition import PCA\n",
    "\n",
    "predictions = y_pred\n",
    "\n",
    "# Run t-SNE on the PCA results to obtain a 2D plot\n",
    "tsne = TSNE(n_components=2, perplexity=30, learning_rate=250, random_state = 2, verbose = 1)\n",
    "tsne_results = tsne.fit_transform(predictions)\n",
    "\n",
    "# Convert to binary class matrix\n",
    "categoricalClasses = np_utils.to_categorical(y_test_flat, num_classes = 2)\n",
    "\n",
    "# Create a figure where each class has a unique colour\n",
    "colour_map = np.argmax(categoricalClasses, axis=1)\n",
    "tsneFigure = plt.figure(figsize=(10,10))\n",
    "for colour in range(2):\n",
    "    indices = np.where(colour_map==colour)\n",
    "    indices = indices[0]\n",
    "    \n",
    "    if colour == 0:\n",
    "      l = \"Benign\"\n",
    "    else:\n",
    "      l = \"Malignant\"\n",
    "\n",
    "    plt.scatter(tsne_results[indices,0],\n",
    "                tsne_results[indices,1],\n",
    "                label=l)\n",
    "  \n",
    "plt.legend()\n",
    "plt.title(titles[0]) #t-SNE Visualisation\n",
    "#plt.savefig(\"{}/{}_tSNE.pdf\".format(base_path, EXP_NAME), dpi=300)\n",
    "plt.show()"
   ]
  },
  {
   "cell_type": "markdown",
   "metadata": {
    "colab_type": "text",
    "id": "02NdmOVIcZkD"
   },
   "source": [
    "### GradCAM"
   ]
  },
  {
   "cell_type": "code",
   "execution_count": null,
   "metadata": {
    "colab": {},
    "colab_type": "code",
    "id": "1acywtYMetoe"
   },
   "outputs": [],
   "source": [
    "def deprocess_image(x):\n",
    "    \"\"\"Same normalization as in:\n",
    "    https://github.com/fchollet/keras/blob/master/examples/conv_filter_visualization.py\n",
    "    \"\"\"\n",
    "    x = x.copy()\n",
    "    if np.ndim(x) > 3:\n",
    "        x = np.squeeze(x)\n",
    "    # normalize tensor: center on 0., ensure std is 0.1\n",
    "    x -= x.mean()\n",
    "    x /= (x.std() + 1e-5)\n",
    "    x *= 0.1\n",
    "\n",
    "    # clip to [0, 1]\n",
    "    x += 0.5\n",
    "    x = np.clip(x, 0, 1)\n",
    "\n",
    "    # convert to RGB array\n",
    "    x *= 255\n",
    "    if K.image_data_format() == 'th': #keras.backend.image_data_format()\n",
    "        x = x.transpose((1, 2, 0))\n",
    "    x = np.clip(x, 0, 255).astype('uint8')\n",
    "    return x\n",
    "\n",
    "\n",
    "def normalize(x):\n",
    "    \"\"\"Utility function to normalize a tensor by its L2 norm\"\"\"\n",
    "    return (x + 1e-10) / (K.sqrt(K.mean(K.square(x))) + 1e-10)\n",
    "\n",
    "\n",
    "def get_heatmap(gc):\n",
    "  \"\"\"Convert 2D heatmap to 3D for plotting\"\"\"\n",
    "  # Get the color map\n",
    "  cm = plt.get_cmap('jet')\n",
    "  # Apply the colormap like a function to any array:\n",
    "  gc3 = cm(gc)\n",
    "  gc3 = gc3[:, :, :3].astype('float32') \n",
    "  return gc3\n",
    "\n",
    "def grad_cam(input_model, image, cls, layer_name):\n",
    "    \"\"\"GradCAM method for visualizing input saliency.\"\"\"\n",
    "    y_c = input_model.output[0, cls]\n",
    "    conv_output = input_model.get_layer(layer_name).output\n",
    "    grads = K.gradients(y_c, conv_output)[0]\n",
    "    # Normalize if necessary\n",
    "    # grads = normalize(grads)\n",
    "    gradient_function = K.function([input_model.input], [conv_output, grads])\n",
    "\n",
    "    output, grads_val = gradient_function([image])\n",
    "    output, grads_val = output[0, :], grads_val[0, :, :, :]\n",
    "\n",
    "    weights = np.mean(grads_val, axis=(0, 1))\n",
    "    cam = np.dot(output, weights)\n",
    "\n",
    "    # Process CAM\n",
    "    cam = cv2.resize(cam, (256, 256), cv2.INTER_LINEAR)\n",
    "    cam = np.maximum(cam, 0)\n",
    "    cam = cam / cam.max()\n",
    "    return cam"
   ]
  },
  {
   "cell_type": "code",
   "execution_count": null,
   "metadata": {
    "colab": {},
    "colab_type": "code",
    "id": "-MvRgZ7wqJz8"
   },
   "outputs": [],
   "source": [
    "#ct = 19 #random.randrange(256)\n",
    "#img = np.expand_dims(x_test[ct], axis=0)\n",
    "#print(\"Image number: \", ct)\n",
    "#print(\"Image shape: \", img.shape)\n",
    "#print(\"True Label: \", y_test_flat[ct])\n",
    "#print(\"Precited Label: \", y_pred_flat[ct])\n",
    "#plt.imshow(x_test[ct])\n",
    "\n",
    "# GradCAM\n",
    "#gc = grad_cam(model, img, -1, 'block5_conv3')\n",
    "#print(gc.shape)\n",
    "\n",
    "# Plot gradcam\n",
    "#plt.imshow(gc)\n",
    "\n",
    "# Plot both image and gradcam\n",
    "#plt.imshow(x_test[ct])\n",
    "#plt.imshow(gc, cmap='jet', alpha=0.4)"
   ]
  },
  {
   "cell_type": "code",
   "execution_count": null,
   "metadata": {
    "colab": {
     "base_uri": "https://localhost:8080/",
     "height": 340
    },
    "colab_type": "code",
    "executionInfo": {
     "elapsed": 8573,
     "status": "ok",
     "timestamp": 1573698317088,
     "user": {
      "displayName": "Hasib Zunair",
      "photoUrl": "https://lh3.googleusercontent.com/a-/AAuE7mBaB1PKP9DvU28TikrNBzJWX6BYyZ9lAcY1BJuwnQ=s64",
      "userId": "17761777555576586389"
     },
     "user_tz": 300
    },
    "id": "dQnEVclBsEIX",
    "outputId": "51b43dde-1386-4641-811f-97989d1b9092"
   },
   "outputs": [],
   "source": [
    "missclass_1 = []\n",
    "\n",
    "for i in tqdm(range(len(y_test_flat))):\n",
    "  # if predicted is 0 and actual is 1\n",
    "  if y_pred_flat[i] == 0 and y_test_flat[i] == 1:\n",
    "    missclass_1.append(x_test[i])\n",
    "\n",
    "# take first 10 missclassified sampels\n",
    "missclass_1 = np.array(missclass_1[:10])\n",
    "\n",
    "print(\"Number of missclassified samples:\", missclass_1.shape)\n",
    "\n",
    "\n",
    "missclass_1_gcam = []\n",
    "\n",
    "for ms in tqdm(missclass_1):\n",
    "\n",
    "  ms = np.expand_dims(ms, axis=0)\n",
    "  # grad cam\n",
    "  gc = grad_cam(model, ms, -1, 'block5_conv3')\n",
    "  # convert to 3D\n",
    "  gc = get_heatmap(gc)\n",
    "  missclass_1_gcam.append(gc)\n",
    "\n",
    "missclass_1_gcam = np.array(missclass_1_gcam)\n",
    "\n",
    "print(\"Number of missclassified gradcam samples:\", missclass_1_gcam.shape)\n",
    "\n",
    "\n",
    "from numpy.random import rand\n",
    "import matplotlib.pyplot as plt\n",
    "\n",
    "results = np.concatenate((missclass_1, missclass_1_gcam), axis=0)\n",
    "\n",
    "x = results\n",
    "a, b = 2, 10\n",
    "x = np.reshape(x, (a, b, 256, 256, 3))\n",
    "\n",
    "test_data = x\n",
    "r, c = test_data.shape[0], test_data.shape[1]\n",
    "cmaps = [['viridis', 'binary'], ['plasma', 'coolwarm'], ['Greens', 'copper']]\n",
    "\n",
    "heights = [a[0].shape[0] for a in test_data]\n",
    "widths = [a.shape[1] for a in test_data[0]]\n",
    "\n",
    "fig_width = 15.  # inches\n",
    "fig_height = fig_width * sum(heights) / sum(widths)\n",
    "\n",
    "f, axarr = plt.subplots(r,c, figsize=(fig_width, fig_height),\n",
    "        gridspec_kw={'height_ratios':heights})\n",
    "\n",
    "for i in range(r):\n",
    "    for j in range(c):\n",
    "        axarr[i, j].imshow(test_data[i][j])\n",
    "        axarr[i, j].axis('off')\n",
    "\n",
    "plt.subplots_adjust(wspace=0, hspace=0, left=0, right=1, bottom=0, top=1)\n",
    "plt.savefig(\"{}/{}_right_1gradcam.png\".format(base_path, EXP_NAME), dpi=300)\n",
    "plt.show()"
   ]
  },
  {
   "cell_type": "code",
   "execution_count": null,
   "metadata": {
    "colab": {
     "base_uri": "https://localhost:8080/",
     "height": 145
    },
    "colab_type": "code",
    "executionInfo": {
     "elapsed": 4856,
     "status": "ok",
     "timestamp": 1573698810036,
     "user": {
      "displayName": "Hasib Zunair",
      "photoUrl": "https://lh3.googleusercontent.com/a-/AAuE7mBaB1PKP9DvU28TikrNBzJWX6BYyZ9lAcY1BJuwnQ=s64",
      "userId": "17761777555576586389"
     },
     "user_tz": 300
    },
    "id": "jW1nWy1twcsu",
    "outputId": "261c1766-57fe-4246-b171-2e5f95c9fb74"
   },
   "outputs": [],
   "source": [
    "# https://umap-learn.readthedocs.io/en/latest/auto_examples/plot_mnist_example.html\n",
    "!pip install umap-learn"
   ]
  },
  {
   "cell_type": "markdown",
   "metadata": {
    "colab_type": "text",
    "id": "m2HHHs6291Me"
   },
   "source": [
    "### UMAP"
   ]
  },
  {
   "cell_type": "code",
   "execution_count": null,
   "metadata": {
    "colab": {
     "base_uri": "https://localhost:8080/",
     "height": 86
    },
    "colab_type": "code",
    "executionInfo": {
     "elapsed": 2248,
     "status": "ok",
     "timestamp": 1575926909378,
     "user": {
      "displayName": "Md Hasib Zunair 1320262643",
      "photoUrl": "",
      "userId": "12069756592370329757"
     },
     "user_tz": 300
    },
    "id": "0CpVmDgQ8csZ",
    "outputId": "26b4b6fb-fee1-4d3f-99b0-5bda94a31e80"
   },
   "outputs": [],
   "source": [
    "# Load raw training data and labels\n",
    "\n",
    "raw_train = np.load(\"{}/x_train.npy\".format(dataset_path))\n",
    "print(raw_train.shape)\n",
    "\n",
    "raw_t_s = np.array([img.flatten() for img in raw_train])\n",
    "print(raw_t_s.shape)\n",
    "\n",
    "raw_annot = np.load(\"{}/y_train.npy\".format(dataset_path))\n",
    "print(raw_annot.shape)\n",
    "\n",
    "raw_annot_flat = np.argmax(raw_annot, axis=1)\n",
    "print(raw_annot_flat.shape)"
   ]
  },
  {
   "cell_type": "code",
   "execution_count": null,
   "metadata": {
    "colab": {
     "base_uri": "https://localhost:8080/",
     "height": 647
    },
    "colab_type": "code",
    "executionInfo": {
     "elapsed": 12737,
     "status": "ok",
     "timestamp": 1575926923437,
     "user": {
      "displayName": "Md Hasib Zunair 1320262643",
      "photoUrl": "",
      "userId": "12069756592370329757"
     },
     "user_tz": 300
    },
    "id": "jyHcJv4uBthu",
    "outputId": "debc3020-dd93-420c-d7e8-131ff5aabc73"
   },
   "outputs": [],
   "source": [
    "import umap\n",
    "import time\n",
    "from sklearn.datasets import fetch_openml\n",
    "import matplotlib.pyplot as plt\n",
    "import seaborn as sns\n",
    "\n",
    "sns.set(context=\"paper\", style=\"white\")\n",
    "\n",
    "data = raw_t_s\n",
    "\n",
    "reducer = umap.UMAP(n_neighbors=5, random_state=42)\n",
    "embedding = reducer.fit_transform(data)\n",
    "\n",
    "#fig, ax = plt.subplots(figsize=(12, 10))\n",
    "#color = raw_annot_flat.astype(int) # mnist.target.astype(int)\n",
    "\n",
    "#plt.scatter(\n",
    "#    embedding[:, 0], embedding[:, 1], c=color, cmap=\"Spectral\", s=100\n",
    "#)\n",
    "\n",
    "#plt.setp(ax, xticks=[], yticks=[])\n",
    "#plt.colorbar(boundaries=np.arange(11)-0.5).set_ticks([0, 1])\n",
    "#plt.title(\"Data embedded into two dimensions by UMAP\", fontsize=18)\n",
    "#plt.savefig(\"{}/{}_raw.pdf\".format(base_path, \"umap\"), dpi=300)\n",
    "#plt.show()\n",
    "\n",
    "\n",
    "colour_map = raw_annot_flat\n",
    "\n",
    "tsneFigure = plt.figure(figsize=(12,10))\n",
    "fig, ax = plt.subplots(figsize=(12, 10))\n",
    "\n",
    "for colour in range(2):\n",
    "    indices = np.where(colour_map==colour)\n",
    "    indices = indices[0]\n",
    "    \n",
    "    if colour == 0:\n",
    "      l = \"Benign\"\n",
    "    if colour == 1:\n",
    "      l = \"Malignant\"\n",
    "    if colour == 2:\n",
    "      l = \"Generated Malignant\"\n",
    "\n",
    "    plt.setp(ax, xticks=[], yticks=[])\n",
    "    plt.scatter(embedding[:, 0][indices],\n",
    "                embedding[:, 1][indices],\n",
    "                label=l, cmap=\"Spectral\", s=50)\n",
    "    \n",
    "plt.legend(loc='lower left')\n",
    "plt.savefig(\"{}/{}_raw.pdf\".format(base_path, \"umap\"), dpi=300)\n",
    "plt.show()"
   ]
  },
  {
   "cell_type": "code",
   "execution_count": null,
   "metadata": {
    "colab": {
     "base_uri": "https://localhost:8080/",
     "height": 86
    },
    "colab_type": "code",
    "executionInfo": {
     "elapsed": 34339,
     "status": "ok",
     "timestamp": 1576544512926,
     "user": {
      "displayName": "Md Hasib Zunair 1320262643",
      "photoUrl": "",
      "userId": "12069756592370329757"
     },
     "user_tz": 300
    },
    "id": "Nys3vs1pGLfp",
    "outputId": "30aafd2c-704d-4281-9974-7a116114e17b"
   },
   "outputs": [],
   "source": [
    "# Load raw+synthetic data and labels\n",
    "\n",
    "raw_train = np.load(\"{}/x_b2m_510.npy\".format(dataset_path)) #x_gan_100, x_UMAPb2m_510\n",
    "print(raw_train.shape)\n",
    "\n",
    "raw_t_s = np.array([img.flatten() for img in raw_train])\n",
    "print(raw_t_s.shape)\n",
    "\n",
    "\n",
    "raw_annot = np.load(\"{}/y_b2m_510.npy\".format(dataset_path))\n",
    "print(raw_annot.shape)\n",
    "\n",
    "raw_annot_flat = np.argmax(raw_annot, axis=1)\n",
    "print(raw_annot_flat.shape)"
   ]
  },
  {
   "cell_type": "code",
   "execution_count": null,
   "metadata": {
    "colab": {
     "base_uri": "https://localhost:8080/",
     "height": 86
    },
    "colab_type": "code",
    "executionInfo": {
     "elapsed": 826,
     "status": "ok",
     "timestamp": 1576544515224,
     "user": {
      "displayName": "Md Hasib Zunair 1320262643",
      "photoUrl": "",
      "userId": "12069756592370329757"
     },
     "user_tz": 300
    },
    "id": "PkmpZqT1F9d3",
    "outputId": "6d4ee0bc-e8b9-44c6-e8cb-2ed5e6d3a69a"
   },
   "outputs": [],
   "source": [
    "raw_annot_flat_3 = []\n",
    "\n",
    "count = 0\n",
    "for i in range(len(raw_annot_flat)):  \n",
    "  if count == 700:\n",
    "    raw_annot_flat_3.append(raw_annot_flat[i])\n",
    "    pass\n",
    "  else:\n",
    "    if raw_annot_flat[i] == 1:\n",
    "      raw_annot_flat_3.append(2)\n",
    "      count+=1\n",
    "    else:\n",
    "      raw_annot_flat_3.append(raw_annot_flat[i])\n",
    "    \n",
    "raw_annot_flat_3 = np.array(raw_annot_flat_3)\n",
    "print(raw_annot_flat_3[:20])\n",
    "print(raw_annot_flat_3.shape)\n",
    "print(len(raw_annot_flat_3))\n",
    "print(np.unique(raw_annot_flat_3))"
   ]
  },
  {
   "cell_type": "code",
   "execution_count": null,
   "metadata": {
    "colab": {},
    "colab_type": "code",
    "id": "aDN12mrZVmRM"
   },
   "outputs": [],
   "source": [
    "# Load raw+synthetic data and labels\n",
    "\n",
    "#raw_train = np.load(\"{}/x_UMAPb2m_510.npy\".format(dataset_path))\n",
    "#print(raw_train.shape)\n",
    "\n",
    "#raw_t_s = np.array([img.flatten() for img in raw_train])\n",
    "#print(raw_t_s.shape)\n",
    "\n",
    "#raw_annot = np.load(\"{}/y_UMAPb2m_510.npy\".format(dataset_path))\n",
    "#print(raw_annot.shape)\n",
    "\n",
    "#raw_annot_flat = np.argmax(raw_annot, axis=1)\n",
    "#print(raw_annot_flat.shape)\n",
    "\n",
    "\n",
    "#raw_annot_flat_3 = raw_annot_flat\n",
    "#raw_t_s.shape, raw_annot_flat_3.shape"
   ]
  },
  {
   "cell_type": "code",
   "execution_count": null,
   "metadata": {
    "colab": {
     "base_uri": "https://localhost:8080/",
     "height": 592
    },
    "colab_type": "code",
    "executionInfo": {
     "elapsed": 32617,
     "status": "ok",
     "timestamp": 1576544732559,
     "user": {
      "displayName": "Md Hasib Zunair 1320262643",
      "photoUrl": "",
      "userId": "12069756592370329757"
     },
     "user_tz": 300
    },
    "id": "e3TJhGZLHX1b",
    "outputId": "23b53056-7537-4664-c6ff-ea909238df6e"
   },
   "outputs": [],
   "source": [
    "import umap\n",
    "import time\n",
    "from sklearn.datasets import fetch_openml\n",
    "import matplotlib.pyplot as plt\n",
    "import seaborn as sns\n",
    "\n",
    "sns.set(context=\"paper\", style=\"white\")\n",
    "\n",
    "data = raw_t_s\n",
    "\n",
    "reducer = umap.UMAP(random_state=42)\n",
    "embedding = reducer.fit_transform(data)\n",
    "\n",
    "#fig, ax = plt.subplots(figsize=(12, 10))\n",
    "#color = raw_annot_flat_3.astype(int) # mnist.target.astype(int)\n",
    "\n",
    "#plt.scatter(\n",
    "#    embedding[:, 0], embedding[:, 1], c=color, cmap=\"Spectral\", s=100\n",
    "#)\n",
    "\n",
    "#plt.setp(ax, xticks=[], yticks=[])\n",
    "#plt.colorbar(boundaries=np.arange(11)-0.5).set_ticks([0, 1])\n",
    "#plt.title(\"Data embedded into two dimensions by UMAP\", fontsize=18)\n",
    "#plt.savefig(\"{}/{}_gan_2.pdf\".format(base_path, \"umap\"), dpi=300)\n",
    "#plt.show()\n",
    "\n",
    "\n",
    "colour_map = raw_annot_flat_3 #raw_annot_flat\n",
    "\n",
    "tsneFigure = plt.figure(figsize=(12,10))\n",
    "fig, ax = plt.subplots(figsize=(12, 10))\n",
    "\n",
    "for colour in range(3):\n",
    "    indices = np.where(colour_map==colour)\n",
    "    indices = indices[0]\n",
    "    \n",
    "    if colour == 0:\n",
    "      l = \"Benign\"\n",
    "    if colour == 1:\n",
    "      l = \"Malignant\"\n",
    "    if colour == 2:\n",
    "      l = \"Generated Malignant\"\n",
    "\n",
    "    plt.setp(ax, xticks=[], yticks=[])\n",
    "    plt.scatter(embedding[:, 0][indices],\n",
    "                embedding[:, 1][indices],\n",
    "                label=l, cmap=\"Spectral\", s=50)\n",
    "    \n",
    " \n",
    "plt.legend(loc='lower left', prop={'size': 25})\n",
    "#plt.savefig(\"{}/{}_gan.pdf\".format(base_path, \"umap\"), dpi=1000)\n",
    "plt.show()"
   ]
  },
  {
   "cell_type": "code",
   "execution_count": null,
   "metadata": {
    "colab": {
     "base_uri": "https://localhost:8080/",
     "height": 69
    },
    "colab_type": "code",
    "executionInfo": {
     "elapsed": 2288,
     "status": "ok",
     "timestamp": 1576544864233,
     "user": {
      "displayName": "Md Hasib Zunair 1320262643",
      "photoUrl": "",
      "userId": "12069756592370329757"
     },
     "user_tz": 300
    },
    "id": "uc09Agg6WhAX",
    "outputId": "f1973e3f-1417-4d2b-d37b-51cdc8ac547a"
   },
   "outputs": [],
   "source": [
    "from keras.datasets import mnist\n",
    "\n",
    "(x_train, y_train), (x_test, y_test) = mnist.load_data()\n",
    "x_train.shape, y_train.shape"
   ]
  },
  {
   "cell_type": "code",
   "execution_count": null,
   "metadata": {
    "colab": {},
    "colab_type": "code",
    "id": "bzuAJ1XdaAIT"
   },
   "outputs": [],
   "source": []
  }
 ],
 "metadata": {
  "accelerator": "GPU",
  "colab": {
   "collapsed_sections": [],
   "name": "test_ISIC_2016.ipynb",
   "provenance": []
  },
  "kernelspec": {
   "display_name": "Python 3",
   "language": "python",
   "name": "python3"
  },
  "language_info": {
   "codemirror_mode": {
    "name": "ipython",
    "version": 3
   },
   "file_extension": ".py",
   "mimetype": "text/x-python",
   "name": "python",
   "nbconvert_exporter": "python",
   "pygments_lexer": "ipython3",
   "version": "3.7.4"
  }
 },
 "nbformat": 4,
 "nbformat_minor": 4
}
